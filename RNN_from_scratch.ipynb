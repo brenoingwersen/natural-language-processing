{
 "cells": [
  {
   "cell_type": "code",
   "execution_count": 1,
   "id": "06f27bef-8f9a-4616-b972-52b7e56e6f23",
   "metadata": {},
   "outputs": [],
   "source": [
    "import gzip\n",
    "from typing import Dict, List, Union, Callable\n",
    "import torch\n",
    "from torch.utils.data import Dataset, DataLoader\n",
    "from sklearn.model_selection import train_test_split\n",
    "from sklearn.metrics import accuracy_score\n",
    "from tqdm.notebook import tqdm\n",
    "from time import perf_counter"
   ]
  },
  {
   "cell_type": "markdown",
   "id": "7194d92d-a714-4965-a61d-b43afa5b3433",
   "metadata": {},
   "source": [
    "## Read the data"
   ]
  },
  {
   "cell_type": "code",
   "execution_count": 2,
   "id": "07cf9732-4cd9-4e99-b99a-8ab3916a148e",
   "metadata": {},
   "outputs": [
    {
     "data": {
      "text/plain": [
       "'one . two . three . four . five . six . seven . eight . nine . ten . eleven . twelve . thirteen . fo'"
      ]
     },
     "execution_count": 2,
     "metadata": {},
     "output_type": "execute_result"
    }
   ],
   "source": [
    "file = \"one-hundred-thousand-numbers.txt.gz\"\n",
    "with gzip.open(file, \"rt\") as f:\n",
    "    text = [line.strip() for line in f]\n",
    "    # Get first 10 k numbers\n",
    "    text = text[1:10_000]\n",
    "    text = \" . \".join(text)\n",
    "text[:100]"
   ]
  },
  {
   "cell_type": "code",
   "execution_count": 3,
   "id": "b81e03b7-afe2-434f-a21f-c4fec4c88021",
   "metadata": {},
   "outputs": [
    {
     "data": {
      "text/plain": [
       "['one', '.', 'two', '.', 'three', '.', 'four', '.', 'five', '.']"
      ]
     },
     "execution_count": 3,
     "metadata": {},
     "output_type": "execute_result"
    }
   ],
   "source": [
    "# Tokenize the dataset\n",
    "tokens = text.split()\n",
    "tokens[:10]"
   ]
  },
  {
   "cell_type": "markdown",
   "id": "e3f509b9-e193-426a-979f-839353ef30ed",
   "metadata": {},
   "source": [
    "## Create the vocabulary\n"
   ]
  },
  {
   "cell_type": "code",
   "execution_count": 4,
   "id": "d5059a0a-513b-49c2-8f5e-e67f70e12d13",
   "metadata": {},
   "outputs": [
    {
     "data": {
      "text/plain": [
       "['one', '.', 'two', 'three', 'four', 'five', 'six', 'seven', 'eight', 'nine']"
      ]
     },
     "execution_count": 4,
     "metadata": {},
     "output_type": "execute_result"
    }
   ],
   "source": [
    "# Create the vocabulary\n",
    "vocab = []\n",
    "for token in tokens:\n",
    "    if token not in vocab:\n",
    "        vocab.append(token)\n",
    "vocab[:10]\n",
    "\n",
    "# One could simply apply sets\n",
    "# vocab = list(set(tokens))\n",
    "# But this yields unordered tokens"
   ]
  },
  {
   "cell_type": "code",
   "execution_count": 5,
   "id": "2a514c38-f6fb-404b-adb4-4d01e6c487f2",
   "metadata": {},
   "outputs": [
    {
     "data": {
      "text/plain": [
       "[0, 1, 2, 3, 4, 5, 6, 7, 8, 9]"
      ]
     },
     "execution_count": 5,
     "metadata": {},
     "output_type": "execute_result"
    }
   ],
   "source": [
    "# Numericalization of tokens\n",
    "tok2idx = {tok: i for i, tok in enumerate(vocab)}\n",
    "list(tok2idx.values())[:10]"
   ]
  },
  {
   "cell_type": "code",
   "execution_count": 6,
   "id": "1931ce56-451e-4733-8e10-960060e83762",
   "metadata": {},
   "outputs": [
    {
     "data": {
      "text/plain": [
       "30"
      ]
     },
     "execution_count": 6,
     "metadata": {},
     "output_type": "execute_result"
    }
   ],
   "source": [
    "len(list(tok2idx.values()))"
   ]
  },
  {
   "cell_type": "code",
   "execution_count": 7,
   "id": "4472be29-7234-4471-b9cd-886d2b2cf179",
   "metadata": {},
   "outputs": [
    {
     "data": {
      "text/plain": [
       "63098"
      ]
     },
     "execution_count": 7,
     "metadata": {},
     "output_type": "execute_result"
    }
   ],
   "source": [
    "# Count of tokens\n",
    "len([tok2idx[tok] for tok in tokens])"
   ]
  },
  {
   "cell_type": "markdown",
   "id": "fffcd2bc-3c0d-4d14-91f1-7f3fb535856d",
   "metadata": {},
   "source": [
    "## Language model task\n",
    "\n",
    "Predict the next token based on the previous three tokens. For that we need to apply a window."
   ]
  },
  {
   "cell_type": "code",
   "execution_count": 8,
   "id": "ab7b9151-5bd4-42f9-9afb-3e6f57e3d661",
   "metadata": {},
   "outputs": [
    {
     "data": {
      "text/plain": [
       "[(['one', '.', 'two'], '.'),\n",
       " (['.', 'three', '.'], 'four'),\n",
       " (['four', '.', 'five'], '.'),\n",
       " (['.', 'six', '.'], 'seven'),\n",
       " (['seven', '.', 'eight'], '.'),\n",
       " (['.', 'nine', '.'], 'ten'),\n",
       " (['ten', '.', 'eleven'], '.'),\n",
       " (['.', 'twelve', '.'], 'thirteen'),\n",
       " (['thirteen', '.', 'fourteen'], '.'),\n",
       " (['.', 'fifteen', '.'], 'sixteen')]"
      ]
     },
     "execution_count": 8,
     "metadata": {},
     "output_type": "execute_result"
    }
   ],
   "source": [
    "seqs = []\n",
    "for i in range(0, len(tokens) - 4, 3):\n",
    "    feature_tokens = tokens[i: i + 3]\n",
    "    target = tokens[i + 3]\n",
    "    seqs.append(tuple([feature_tokens, target]))\n",
    "seqs[:10]"
   ]
  },
  {
   "cell_type": "code",
   "execution_count": 9,
   "id": "521522ed-9791-4e92-a295-b017b27e8fb2",
   "metadata": {},
   "outputs": [
    {
     "data": {
      "text/plain": [
       "21032"
      ]
     },
     "execution_count": 9,
     "metadata": {},
     "output_type": "execute_result"
    }
   ],
   "source": [
    "len(seqs)"
   ]
  },
  {
   "cell_type": "markdown",
   "id": "1e5cdecb-6353-449d-861c-5b3671bc6c59",
   "metadata": {},
   "source": [
    "### Apply the tokenizer"
   ]
  },
  {
   "cell_type": "code",
   "execution_count": 10,
   "id": "413f7e00-bf78-4117-b734-98146da765c2",
   "metadata": {},
   "outputs": [
    {
     "data": {
      "text/plain": [
       "[(tensor([0, 1, 2]), tensor(1)),\n",
       " (tensor([1, 3, 1]), tensor(4)),\n",
       " (tensor([4, 1, 5]), tensor(1)),\n",
       " (tensor([1, 6, 1]), tensor(7)),\n",
       " (tensor([7, 1, 8]), tensor(1)),\n",
       " (tensor([1, 9, 1]), tensor(10)),\n",
       " (tensor([10,  1, 11]), tensor(1)),\n",
       " (tensor([ 1, 12,  1]), tensor(13)),\n",
       " (tensor([13,  1, 14]), tensor(1)),\n",
       " (tensor([ 1, 15,  1]), tensor(16))]"
      ]
     },
     "execution_count": 10,
     "metadata": {},
     "output_type": "execute_result"
    }
   ],
   "source": [
    "# Apply the tokenization\n",
    "seqs_tokens = []\n",
    "for seq in seqs:\n",
    "    feat, trg = seq\n",
    "    feat_tok = torch.tensor([tok2idx[f] for f in feat])\n",
    "    trg_tok = torch.tensor(tok2idx[trg])\n",
    "    seqs_tokens.append(tuple([feat_tok, trg_tok]))\n",
    "seqs_tokens[:10]"
   ]
  },
  {
   "cell_type": "markdown",
   "id": "0843a223-eea9-4d78-aed0-2ec7e594991d",
   "metadata": {},
   "source": [
    "### Create the dataset and dataloader"
   ]
  },
  {
   "cell_type": "code",
   "execution_count": 11,
   "id": "92c07a11-55b9-40f3-9649-a0dcca54a33a",
   "metadata": {},
   "outputs": [],
   "source": [
    "class NumbersDataset(Dataset):\n",
    "    def __init__(self, data):\n",
    "        features, targets = zip(*data)\n",
    "        # Convert to the appropriate tensors\n",
    "        self.features = torch.stack(features)\n",
    "        self.targets = torch.stack(targets)\n",
    "        \n",
    "    def __len__(self):\n",
    "        return len(self.targets)\n",
    "    \n",
    "    def __getitem__(self, idx):\n",
    "        return self.features[idx], self.targets[idx]\n",
    "    \n",
    "# Split the data into train/val\n",
    "train_seqs, val_seqs = train_test_split(seqs_tokens,\n",
    "                                        test_size=.2,\n",
    "                                        shuffle=False,\n",
    "                                        random_state=123)\n",
    "\n",
    "# Create the datasets\n",
    "train_set = NumbersDataset(train_seqs)\n",
    "val_set = NumbersDataset(val_seqs)\n",
    "\n",
    "# DataLoaders\n",
    "train_loader = DataLoader(train_set, batch_size=64, shuffle=False)\n",
    "val_loader = DataLoader(val_set, batch_size=64, shuffle=False)"
   ]
  },
  {
   "attachments": {
    "1ee9269f-31a6-48b9-b425-b3fabd5ecf22.png": {
     "image/png": "[encoded data removed]"
    },
    "4d5374c4-9e8e-431e-b6a1-4101d5810c31.png": {
     "image/png": "[encoded data removed]"
    },
    "c66b093c-b432-4bf9-90b7-5dd51f9a92f5.png": {
     "image/png": "[encoded data removed]"
    }
   },
   "cell_type": "markdown",
   "id": "da6fedc6-7822-4268-b6b4-ec021ef6390d",
   "metadata": {},
   "source": [
    "## First language model\n",
    "\n",
    "### The architecture\n",
    "#### Layers\n",
    "- **Input Layer**: This layer is formed by a `torch.nn.Embedding` class which is basically a lookup table. This table of dimensions (vocab_size, n_hidden) when called receives a tensor of indices of the vocabulary and returns a vectorial representation for each token. The weights on the embedding layer are initialized randomly from a normal distribution with mean 0 and variance 1.\n",
    "<div style=\"text-align: center\">\n",
    "    <img src=\"attachment:4d5374c4-9e8e-431e-b6a1-4101d5810c31.png\" width=\"600\"/>\n",
    "</div>\n",
    "- **Hidden Layer**: This is just a 2D weigths matrix that receives an input with shape (batch_size, n_hidden) and applies the dot product with the weights matrix of shape (n_hidden, n_hidden). If the case should be of a rectangular matrix, then the parameter of the rows should match the embedding dimension of the input layer and the output tensor would be of shape (batch_size, other_emb_dim).\n",
    "- **Output Layer**: Finally the output layer should take the inputs of the hidden layer and reshape them into a tensor of shape (batch_size, vocab_size) in order to recover a probability for each possible output that completes the sequence, i.e. the token with the largest probability is the one voted from the whole network to be the next token of the input sequence.\n",
    "\n",
    "#### Forwarding through the network\n",
    "- **\"*Sequential*\" token context**: As we feed the tokens to the network, the activations from the previous tokens is summed with the current token embedding representation then the result is fed to the hidden layer to get the \"*interpreted*\" information of the sequence which is then applied to the activation function. This makes the network interpret the nth token based on the preceeding ones. Of course, for the first token the information will be just for the first token. See the sketch below:\n",
    "<div style=\"text-align: center\">\n",
    "    <img src=\"attachment:c66b093c-b432-4bf9-90b7-5dd51f9a92f5.png\" width=\"600\"/>\n",
    "</div>\n",
    "- **Weight sharing**: There are a couple of theoretical reasons to share weights through the network.\n",
    "    - **Computational costs**: Adding more weights to the network increases the computational cost when calculating the gradients and also the whole network's size in general if someone wants to train on a longer input sequence of data.\n",
    "    - **Prone to overfitting**: The fact that there's only one hidden layer with a group of weights forces the network to ignore the *positional* information of the tokens of the sequence. From this perspective, the network is able to generalize better. Think of the NLP task: humans created a ton of complex rules to sentence writting, but these rules are always the same regardless of the word that came before. Basically it's invariant through time and this behavior should be expected. What could *possibly* happen is the network would be trained on a set of data that isn't big enough for it to learn all language nuances and it'd overfit. See below:\n",
    "<div style=\"text-align: center\">\n",
    "    <img src=\"attachment:1ee9269f-31a6-48b9-b425-b3fabd5ecf22.png\" width=\"600\"/>\n",
    "</div>"
   ]
  },
  {
   "cell_type": "code",
   "execution_count": 12,
   "id": "48d143cb-8491-4962-a0d5-d5756ebf5884",
   "metadata": {},
   "outputs": [],
   "source": [
    "class SimpleRNN(torch.nn.Module):\n",
    "    def __init__(self,\n",
    "                 vocab_size: int,\n",
    "                 n_hidden: int=3):\n",
    "        super(SimpleRNN, self).__init__()\n",
    "        self.vocab_size = vocab_size\n",
    "        self.n_hidden = n_hidden\n",
    "        \n",
    "        # Layers\n",
    "        self.input_layer = torch.nn.Embedding(vocab_size, n_hidden) # Lookup table\n",
    "        self.hidden_layer = torch.nn.Linear(n_hidden, n_hidden)\n",
    "        self.output_layer = torch.nn.Linear(n_hidden, vocab_size)\n",
    "        \n",
    "    def forward(self, \n",
    "                X: torch.tensor,\n",
    "                y: Union[None, torch.tensor]=None) -> Dict:\n",
    "        # First token\n",
    "        hidden_state = self.input_layer(X[:, 0])\n",
    "        hidden_state = self.hidden_layer(hidden_state)\n",
    "        hidden_state = torch.nn.functional.relu(hidden_state)\n",
    "        \n",
    "        # Second token\n",
    "        # Add the previous token to make the network\n",
    "        # use the information of previous tokens together\n",
    "        hidden_state = hidden_state + self.input_layer(X[:, 1])\n",
    "        hidden_state = self.hidden_layer(hidden_state)\n",
    "        hidden_state = torch.nn.functional.relu(hidden_state)\n",
    "        \n",
    "        # Third token\n",
    "        hidden_state = hidden_state + self.input_layer(X[:, 2])\n",
    "        hidden_state = self.hidden_layer(hidden_state)\n",
    "        hidden_state = torch.nn.functional.relu(hidden_state) # (batch_size, n_hidden)\n",
    "        \n",
    "        # Finally get the probabilities\n",
    "        # for the next token\n",
    "        hidden_state = self.output_layer(hidden_state) # (batch_size, vocab_size)\n",
    "        out = {\"last_hidden_state\": hidden_state}\n",
    "        \n",
    "        # Calculate the loss\n",
    "        if y is not None:\n",
    "            loss = torch.nn.functional.cross_entropy(hidden_state, y.view(-1,))\n",
    "            out.update({\"loss\": loss})\n",
    "        return out"
   ]
  },
  {
   "cell_type": "markdown",
   "id": "bf83a98d-542e-458a-9f5e-72444337af31",
   "metadata": {},
   "source": [
    "## Training loop"
   ]
  },
  {
   "cell_type": "code",
   "execution_count": 13,
   "id": "c956c583-e58f-4ebd-971c-aa2451898778",
   "metadata": {},
   "outputs": [],
   "source": [
    "# Training loop\n",
    "def train_one_epoch(model, \n",
    "                    train_loader,\n",
    "                    optimizer,\n",
    "                    device: Union[str, None]=None):\n",
    "    \"\"\"\n",
    "    Trains the network for one epoch.\n",
    "    \"\"\"\n",
    "    # Checks device\n",
    "    if device is None:\n",
    "        device = \"cuda\" if torch.cuda.is_available() else \"cpu\"\n",
    "        \n",
    "    # Create running loss and sets model to train\n",
    "    running_loss = 0\n",
    "    model.to(device)\n",
    "    model.train()\n",
    "    for batch in tqdm(train_loader, desc=\"Train batches\", leave=False):\n",
    "        # Unpack inputs and targets\n",
    "        inputs, targets = batch\n",
    "        \n",
    "        # Send to device\n",
    "        inputs = inputs.to(device)\n",
    "        targets = targets.to(device)\n",
    "        \n",
    "        # Zero gradients for every batch\n",
    "        optimizer.zero_grad()\n",
    "        \n",
    "        # Compute loss and gradients\n",
    "        outputs = model(inputs, targets)\n",
    "        loss = outputs[\"loss\"]\n",
    "        loss.backward()\n",
    "        \n",
    "        # Adjust learning weights\n",
    "        optimizer.step()\n",
    "        \n",
    "        # Report\n",
    "        running_loss += loss.item()\n",
    "        \n",
    "    # Normalize loss per train instance\n",
    "    avg_loss = running_loss/len(train_loader)\n",
    "    \n",
    "    return avg_loss\n",
    "\n",
    "\n",
    "# Evaluation loop\n",
    "def evaluate_one_epoch(model,\n",
    "                       val_loader,\n",
    "                       device: Union[str, None]=None):\n",
    "    \"\"\"\n",
    "    Runs evaluation for one epoch.\n",
    "    \"\"\"\n",
    "    # Checks device\n",
    "    if device is None:\n",
    "        device = \"cuda\" if torch.cuda.is_available() else \"cpu\"\n",
    "    \n",
    "    # Running loss and sets model to evaluate\n",
    "    running_loss = 0\n",
    "    model.to(device)\n",
    "    model.eval()\n",
    "    \n",
    "    # Store actual labels and predictions\n",
    "    true_labels = []\n",
    "    predictions = []\n",
    "    \n",
    "    for batch in tqdm(val_loader, desc=\"Eval batches\", leave=False):\n",
    "        # Unpack inputs and targets\n",
    "        inputs, targets = batch\n",
    "        \n",
    "        # Send to device\n",
    "        inputs = inputs.to(device)\n",
    "        targets = targets.to(device)\n",
    "        \n",
    "        # Compute loss\n",
    "        with torch.no_grad():\n",
    "            outputs = model(inputs, targets)\n",
    "        loss = outputs[\"loss\"]\n",
    "        \n",
    "        # Get probabilities and predictions\n",
    "        hidden_state = outputs[\"last_hidden_state\"]\n",
    "        # Apply softmax along the last dimension i.e. vocab\n",
    "        probs = torch.nn.functional.softmax(hidden_state, dim=-1)\n",
    "        # Select most probable token\n",
    "        preds = torch.argmax(probs, dim=-1)\n",
    "        \n",
    "        # Report\n",
    "        # Check if targets is 2D, then flatten the list of lists\n",
    "        if targets.ndim == 2:\n",
    "            # (batch_size, seq_length) -> (batch_size * seq_length)\n",
    "            targets = targets.view(-1)\n",
    "            preds = preds.view(-1)\n",
    "            \n",
    "        running_loss += loss.item()\n",
    "        true_labels.extend(targets.tolist())\n",
    "        predictions.extend(preds.tolist())\n",
    "        \n",
    "    avg_loss = running_loss/len(val_loader)\n",
    "    accuracy = accuracy_score(true_labels, predictions)\n",
    "    return avg_loss, accuracy\n",
    "\n",
    "\n",
    "# Train network\n",
    "def train_network(model,\n",
    "                  train_loader: DataLoader,\n",
    "                  val_loader: Union[None, DataLoader]=None,\n",
    "                  optimizer: torch.optim.Optimizer=torch.optim.SGD, \n",
    "                  n_epochs: int=1,\n",
    "                  learning_rate: float=1e-3,\n",
    "                  device: Union[None, str]=None):\n",
    "    \"\"\"\n",
    "    Train the network and report metrics.\n",
    "    \"\"\"\n",
    "    # Checks device\n",
    "    if device is None:\n",
    "        device = \"cuda\" if torch.cuda.is_available() else \"cpu\"\n",
    "    \n",
    "    # Optimizer\n",
    "    optimizer = optimizer(model.parameters(), lr=learning_rate)\n",
    "    for epoch in tqdm(range(1, n_epochs + 1), desc=\"Epochs\"):\n",
    "        # Start timer\n",
    "        start_time = perf_counter()\n",
    "        \n",
    "        # Train model\n",
    "        train_loss = train_one_epoch(model, train_loader, optimizer, device)\n",
    "        \n",
    "        # Evaluate on validation set\n",
    "        val_loss, val_acc = evaluate_one_epoch(model, val_loader, device)\n",
    "        \n",
    "        # Stop timer and calculate the epoch time in seconds\n",
    "        end_time = perf_counter()\n",
    "        epoch_time = end_time - start_time # Seconds\n",
    "        \n",
    "        # Report\n",
    "        print(f\"Epoch {epoch} - Train Loss: {train_loss:.3f} - Eval Loss: {val_loss:.3f} - Eval Accuracy: {val_acc:.3f} - Time {epoch_time:.1f}\")"
   ]
  },
  {
   "cell_type": "code",
   "execution_count": 14,
   "id": "857d64a6-f5fe-4b1c-84f8-aa19e2b1e63e",
   "metadata": {},
   "outputs": [
    {
     "data": {
      "application/json": {
       "ascii": false,
       "bar_format": null,
       "colour": null,
       "elapsed": 0.01581549644470215,
       "initial": 0,
       "n": 0,
       "ncols": null,
       "nrows": 29,
       "postfix": null,
       "prefix": "Epochs",
       "rate": null,
       "total": 4,
       "unit": "it",
       "unit_divisor": 1000,
       "unit_scale": false
      },
      "application/vnd.jupyter.widget-view+json": {
       "model_id": "4b4593db065d45e6bc88479e50c54c65",
       "version_major": 2,
       "version_minor": 0
      },
      "text/plain": [
       "Epochs:   0%|          | 0/4 [00:00<?, ?it/s]"
      ]
     },
     "metadata": {},
     "output_type": "display_data"
    },
    {
     "data": {
      "application/json": {
       "ascii": false,
       "bar_format": null,
       "colour": null,
       "elapsed": 0.01829695701599121,
       "initial": 0,
       "n": 0,
       "ncols": null,
       "nrows": 29,
       "postfix": null,
       "prefix": "Train batches",
       "rate": null,
       "total": 263,
       "unit": "it",
       "unit_divisor": 1000,
       "unit_scale": false
      },
      "application/vnd.jupyter.widget-view+json": {
       "model_id": "",
       "version_major": 2,
       "version_minor": 0
      },
      "text/plain": [
       "Train batches:   0%|          | 0/263 [00:00<?, ?it/s]"
      ]
     },
     "metadata": {},
     "output_type": "display_data"
    },
    {
     "data": {
      "application/json": {
       "ascii": false,
       "bar_format": null,
       "colour": null,
       "elapsed": 0.022513389587402344,
       "initial": 0,
       "n": 0,
       "ncols": null,
       "nrows": 29,
       "postfix": null,
       "prefix": "Eval batches",
       "rate": null,
       "total": 66,
       "unit": "it",
       "unit_divisor": 1000,
       "unit_scale": false
      },
      "application/vnd.jupyter.widget-view+json": {
       "model_id": "",
       "version_major": 2,
       "version_minor": 0
      },
      "text/plain": [
       "Eval batches:   0%|          | 0/66 [00:00<?, ?it/s]"
      ]
     },
     "metadata": {},
     "output_type": "display_data"
    },
    {
     "name": "stdout",
     "output_type": "stream",
     "text": [
      "Epoch 1 - Train Loss: 3.312 - Eval Loss: 3.256 - Eval Accuracy: 0.148 - Time 0.5\n"
     ]
    },
    {
     "data": {
      "application/json": {
       "ascii": false,
       "bar_format": null,
       "colour": null,
       "elapsed": 0.016179323196411133,
       "initial": 0,
       "n": 0,
       "ncols": null,
       "nrows": 29,
       "postfix": null,
       "prefix": "Train batches",
       "rate": null,
       "total": 263,
       "unit": "it",
       "unit_divisor": 1000,
       "unit_scale": false
      },
      "application/vnd.jupyter.widget-view+json": {
       "model_id": "",
       "version_major": 2,
       "version_minor": 0
      },
      "text/plain": [
       "Train batches:   0%|          | 0/263 [00:00<?, ?it/s]"
      ]
     },
     "metadata": {},
     "output_type": "display_data"
    },
    {
     "data": {
      "application/json": {
       "ascii": false,
       "bar_format": null,
       "colour": null,
       "elapsed": 0.01903533935546875,
       "initial": 0,
       "n": 0,
       "ncols": null,
       "nrows": 29,
       "postfix": null,
       "prefix": "Eval batches",
       "rate": null,
       "total": 66,
       "unit": "it",
       "unit_divisor": 1000,
       "unit_scale": false
      },
      "application/vnd.jupyter.widget-view+json": {
       "model_id": "",
       "version_major": 2,
       "version_minor": 0
      },
      "text/plain": [
       "Eval batches:   0%|          | 0/66 [00:00<?, ?it/s]"
      ]
     },
     "metadata": {},
     "output_type": "display_data"
    },
    {
     "name": "stdout",
     "output_type": "stream",
     "text": [
      "Epoch 2 - Train Loss: 3.166 - Eval Loss: 3.122 - Eval Accuracy: 0.169 - Time 0.5\n"
     ]
    },
    {
     "data": {
      "application/json": {
       "ascii": false,
       "bar_format": null,
       "colour": null,
       "elapsed": 0.012384176254272461,
       "initial": 0,
       "n": 0,
       "ncols": null,
       "nrows": 29,
       "postfix": null,
       "prefix": "Train batches",
       "rate": null,
       "total": 263,
       "unit": "it",
       "unit_divisor": 1000,
       "unit_scale": false
      },
      "application/vnd.jupyter.widget-view+json": {
       "model_id": "",
       "version_major": 2,
       "version_minor": 0
      },
      "text/plain": [
       "Train batches:   0%|          | 0/263 [00:00<?, ?it/s]"
      ]
     },
     "metadata": {},
     "output_type": "display_data"
    },
    {
     "data": {
      "application/json": {
       "ascii": false,
       "bar_format": null,
       "colour": null,
       "elapsed": 0.018453598022460938,
       "initial": 0,
       "n": 0,
       "ncols": null,
       "nrows": 29,
       "postfix": null,
       "prefix": "Eval batches",
       "rate": null,
       "total": 66,
       "unit": "it",
       "unit_divisor": 1000,
       "unit_scale": false
      },
      "application/vnd.jupyter.widget-view+json": {
       "model_id": "",
       "version_major": 2,
       "version_minor": 0
      },
      "text/plain": [
       "Eval batches:   0%|          | 0/66 [00:00<?, ?it/s]"
      ]
     },
     "metadata": {},
     "output_type": "display_data"
    },
    {
     "name": "stdout",
     "output_type": "stream",
     "text": [
      "Epoch 3 - Train Loss: 3.000 - Eval Loss: 2.964 - Eval Accuracy: 0.161 - Time 0.5\n"
     ]
    },
    {
     "data": {
      "application/json": {
       "ascii": false,
       "bar_format": null,
       "colour": null,
       "elapsed": 0.015808820724487305,
       "initial": 0,
       "n": 0,
       "ncols": null,
       "nrows": 29,
       "postfix": null,
       "prefix": "Train batches",
       "rate": null,
       "total": 263,
       "unit": "it",
       "unit_divisor": 1000,
       "unit_scale": false
      },
      "application/vnd.jupyter.widget-view+json": {
       "model_id": "",
       "version_major": 2,
       "version_minor": 0
      },
      "text/plain": [
       "Train batches:   0%|          | 0/263 [00:00<?, ?it/s]"
      ]
     },
     "metadata": {},
     "output_type": "display_data"
    },
    {
     "data": {
      "application/json": {
       "ascii": false,
       "bar_format": null,
       "colour": null,
       "elapsed": 0.021320104598999023,
       "initial": 0,
       "n": 0,
       "ncols": null,
       "nrows": 29,
       "postfix": null,
       "prefix": "Eval batches",
       "rate": null,
       "total": 66,
       "unit": "it",
       "unit_divisor": 1000,
       "unit_scale": false
      },
      "application/vnd.jupyter.widget-view+json": {
       "model_id": "",
       "version_major": 2,
       "version_minor": 0
      },
      "text/plain": [
       "Eval batches:   0%|          | 0/66 [00:00<?, ?it/s]"
      ]
     },
     "metadata": {},
     "output_type": "display_data"
    },
    {
     "name": "stdout",
     "output_type": "stream",
     "text": [
      "Epoch 4 - Train Loss: 2.805 - Eval Loss: 2.781 - Eval Accuracy: 0.173 - Time 0.5\n"
     ]
    }
   ],
   "source": [
    "# Get vocab size and train the model\n",
    "torch.manual_seed(123)\n",
    "vocab_size = len(vocab)\n",
    "model = SimpleRNN(vocab_size, 64)\n",
    "train_network(model, train_loader, val_loader, n_epochs=4)"
   ]
  },
  {
   "attachments": {
    "40fc4a0a-daf5-4516-8308-95955e619c9a.png": {
     "image/png": "[encoded data removed]"
    },
    "7e443d69-4b3e-47cd-8460-2410a41b6d38.png": {
     "image/png": "[encoded data removed]"
    }
   },
   "cell_type": "markdown",
   "id": "4083c426-6c72-4b48-ab1c-5048654de262",
   "metadata": {},
   "source": [
    "## Maintaining the state of a RNN\n",
    "\n",
    "Since the performance from the basic RNN is really bad, one idea to try to improve it is to add **more context** when training it to predict the next token. In the begining we had a countinous dataset of written numbers: one, two, three, four, five, ..., ninety nine thousand nine hundred ninety nine (99,999) and we splited it into chunks of 3 tokens to predict the fourth one. So for the first few digits we had: \"one, two, three\" -> \"four\", then \"two, three, four\" -> \"five\". But what if we could pass the first sequence to the network, which would return a *hidden state* with the information of those numbers, and keep this representation and add it to the next first token of the sequence?\n",
    "<div style=\"text-align: center\">\n",
    "    <img src=\"attachment:7e443d69-4b3e-47cd-8460-2410a41b6d38.png\" width=\"600\"/>\n",
    "</div>\n",
    "To do this we simply \"*save*\" the previous hidden state in a property of the network inside the `__init__()` method. This property starts at zero and as the text flows through the network in the forward pass more context is added to it.\n",
    "\n",
    "One point is that for every new token passed through the network the network *virtually* increases the amount of weights to be adjusted. So this means that after 3 batches the network would have 9 sets of weights to calculate the gradients. This would drastically increase the memory needed. So for every batch we `.detach()` the previous hidden states and calculate the gradients only for the current batchs' tokens. This method sets the `requires_grad` property of the tensor to `False`.\n",
    "\n",
    "Another point is that we need to zero the hidden_state of the network after every training epoch and evaluation epoch. It wouldn't make sense to keep the information (hidden state) from tokens of the training data to predict tokens for the validation data. The reverse is also true. For that we create a special method `.reset()` which sets the hidden state back to zero. This method needs to be called using a callback in the training loop, so we also need to modify it.\n",
    "\n",
    "Finally, we need to recreate both training and validation datasets so that for the first item of every batch we have a continuous flow of data. See below:\n",
    "<div style=\"text-align: center\">\n",
    "    <img src=\"attachment:40fc4a0a-daf5-4516-8308-95955e619c9a.png\" width=\"600\"/>\n",
    "</div>"
   ]
  },
  {
   "cell_type": "code",
   "execution_count": 15,
   "id": "a997c721-42d2-49ea-8075-dc3cf825cdf9",
   "metadata": {},
   "outputs": [
    {
     "name": "stdout",
     "output_type": "stream",
     "text": [
      "Batch 0:\n",
      "[(tensor([0, 1, 2]), tensor(1)), (tensor([1, 6, 1]), tensor(7)), (tensor([10,  1, 11]), tensor(1))]\n",
      "Batch 1:\n",
      "[(tensor([1, 3, 1]), tensor(4)), (tensor([7, 1, 8]), tensor(1)), (tensor([ 1, 12,  1]), tensor(13))]\n",
      "Batch 2:\n",
      "[(tensor([4, 1, 5]), tensor(1)), (tensor([1, 9, 1]), tensor(10)), (tensor([13,  1, 14]), tensor(1))]\n"
     ]
    }
   ],
   "source": [
    "def group_chunks(seqs_tokens: List, \n",
    "                 batch_size: int=64) -> List:\n",
    "    # Get the number of full batches\n",
    "    num_batches = len(seqs_tokens) // batch_size\n",
    "    for b in range(num_batches):\n",
    "        batch = []\n",
    "        for row in range(batch_size):\n",
    "            batch.append(seqs_tokens[b + num_batches*row])\n",
    "        yield batch\n",
    "        \n",
    "# Test\n",
    "for i, batch in enumerate(group_chunks(seqs_tokens[:10],\n",
    "                                       batch_size=3)):\n",
    "    print(f\"Batch {i}:\")\n",
    "    print(batch)"
   ]
  },
  {
   "cell_type": "code",
   "execution_count": 16,
   "id": "1d801ad1-27e1-4406-b359-bfceedad44a6",
   "metadata": {},
   "outputs": [],
   "source": [
    "batch_size = 64\n",
    "\n",
    "# Create chunks and flatten the batches\n",
    "grouped_train_seqs = [seq for chunk in group_chunks(train_seqs, batch_size) for seq in chunk]\n",
    "grouped_val_seqs = [seq for chunk in group_chunks(val_seqs, batch_size) for seq in chunk]\n",
    "\n",
    "# Recreate the datasets and dataloaders\n",
    "grouped_train_set = NumbersDataset(grouped_train_seqs)\n",
    "grouped_val_set = NumbersDataset(grouped_val_seqs)\n",
    "\n",
    "# Don't shuffle\n",
    "grouped_train_loader = DataLoader(grouped_train_set,\n",
    "                                  batch_size=batch_size,\n",
    "                                  shuffle=False)\n",
    "grouped_val_loader = DataLoader(grouped_val_set,\n",
    "                                batch_size=batch_size,\n",
    "                                shuffle=False)"
   ]
  },
  {
   "cell_type": "markdown",
   "id": "2f89ed9d-c149-4877-897f-315b299eeffb",
   "metadata": {},
   "source": [
    "### State-aware RNN"
   ]
  },
  {
   "cell_type": "code",
   "execution_count": 17,
   "id": "c27bdf2e-e204-4c60-ab77-715479eec494",
   "metadata": {},
   "outputs": [],
   "source": [
    "class SimpleRNNWithState(torch.nn.Module):\n",
    "    def __init__(self,\n",
    "                 vocab_size: int,\n",
    "                 n_hidden: int=3):\n",
    "        super(SimpleRNNWithState, self).__init__()\n",
    "        self.vocab_size = vocab_size\n",
    "        self.n_hidden = n_hidden\n",
    "        \n",
    "        # Layers\n",
    "        self.input_layer = torch.nn.Embedding(vocab_size, n_hidden) # Lookup table\n",
    "        self.hidden_layer = torch.nn.Linear(n_hidden, n_hidden)\n",
    "        self.output_layer = torch.nn.Linear(n_hidden, vocab_size)\n",
    "        \n",
    "        # Hidden state\n",
    "        self.hidden_state = 0\n",
    "        \n",
    "    def forward(self, \n",
    "                X: torch.tensor,\n",
    "                y: Union[None, torch.tensor]=None) -> Dict:\n",
    "        # Implement a for-loop\n",
    "        for i in range(3):\n",
    "            self.hidden_state = self.hidden_state + self.input_layer(X[:, i])\n",
    "            self.hidden_state = self.hidden_layer(self.hidden_state)\n",
    "            self.hidden_state = torch.nn.functional.relu(self.hidden_state)\n",
    "        last_hidden_state = self.output_layer(self.hidden_state)\n",
    "        \n",
    "        # Prevent backpropagating the derivatives through all hidden states\n",
    "        self.hidden_state = self.hidden_state.detach()\n",
    "        out = {\"last_hidden_state\": last_hidden_state}\n",
    "        \n",
    "        # Calculate the loss\n",
    "        if y is not None:\n",
    "            loss = torch.nn.functional.cross_entropy(last_hidden_state, y.view(-1,))\n",
    "            out.update({\"loss\": loss})\n",
    "        return out\n",
    "    \n",
    "    def reset(self):\n",
    "        \"\"\"\n",
    "        Resets the previous hidden states to zero\n",
    "        \"\"\"\n",
    "        self.hidden_state = 0"
   ]
  },
  {
   "cell_type": "markdown",
   "id": "f70185d1-79e6-4b15-af00-d4960588fea5",
   "metadata": {},
   "source": [
    "### New train function with callback"
   ]
  },
  {
   "cell_type": "code",
   "execution_count": 18,
   "id": "c63c6265-ad20-4d88-91fd-d9fbd77ae5ee",
   "metadata": {},
   "outputs": [],
   "source": [
    "def train_state_network(model,\n",
    "                        train_loader: DataLoader,\n",
    "                        val_loader: Union[None, DataLoader]=None,\n",
    "                        optimizer: torch.optim.Optimizer=torch.optim.AdamW, \n",
    "                        n_epochs: int=1,\n",
    "                        learning_rate: float=1e-3,\n",
    "                        device: Union[None, str]=None):\n",
    "    \"\"\"\n",
    "    Train the network and report metrics.\n",
    "    \"\"\"\n",
    "    # Checks device\n",
    "    if device is None:\n",
    "        device = \"cuda\" if torch.cuda.is_available() else \"cpu\"\n",
    "    \n",
    "    # Optimizer\n",
    "    optimizer = optimizer(model.parameters(), lr=learning_rate)\n",
    "    for epoch in tqdm(range(1, n_epochs + 1), desc=\"Epochs\"):\n",
    "        # Start timer\n",
    "        start_time = perf_counter()\n",
    "        \n",
    "        # Train model and reset the hidden state\n",
    "        train_loss = train_one_epoch(model, train_loader, optimizer, device)\n",
    "        model.reset()\n",
    "        \n",
    "        # Evaluate on validation set and reset the hidden state\n",
    "        val_loss, val_acc = evaluate_one_epoch(model, val_loader, device)\n",
    "        model.reset()\n",
    "        \n",
    "        # Stop timer and calculate the epoch time in seconds\n",
    "        end_time = perf_counter()\n",
    "        epoch_time = end_time - start_time # Seconds\n",
    "        \n",
    "        # Report\n",
    "        print(f\"Epoch {epoch} - Train Loss: {train_loss:.3f} - Eval Loss: {val_loss:.3f} - Eval Accuracy: {val_acc:.3f} - Time {epoch_time:.1f}\")"
   ]
  },
  {
   "cell_type": "code",
   "execution_count": 19,
   "id": "167f7b45-a665-45ce-90f2-b0438b6f42ea",
   "metadata": {},
   "outputs": [
    {
     "data": {
      "application/json": {
       "ascii": false,
       "bar_format": null,
       "colour": null,
       "elapsed": 0.025509357452392578,
       "initial": 0,
       "n": 0,
       "ncols": null,
       "nrows": 29,
       "postfix": null,
       "prefix": "Epochs",
       "rate": null,
       "total": 10,
       "unit": "it",
       "unit_divisor": 1000,
       "unit_scale": false
      },
      "application/vnd.jupyter.widget-view+json": {
       "model_id": "8ae1ce1bb4a246949855605033aae5b3",
       "version_major": 2,
       "version_minor": 0
      },
      "text/plain": [
       "Epochs:   0%|          | 0/10 [00:00<?, ?it/s]"
      ]
     },
     "metadata": {},
     "output_type": "display_data"
    },
    {
     "data": {
      "application/json": {
       "ascii": false,
       "bar_format": null,
       "colour": null,
       "elapsed": 0.02110743522644043,
       "initial": 0,
       "n": 0,
       "ncols": null,
       "nrows": 29,
       "postfix": null,
       "prefix": "Train batches",
       "rate": null,
       "total": 262,
       "unit": "it",
       "unit_divisor": 1000,
       "unit_scale": false
      },
      "application/vnd.jupyter.widget-view+json": {
       "model_id": "",
       "version_major": 2,
       "version_minor": 0
      },
      "text/plain": [
       "Train batches:   0%|          | 0/262 [00:00<?, ?it/s]"
      ]
     },
     "metadata": {},
     "output_type": "display_data"
    },
    {
     "data": {
      "application/json": {
       "ascii": false,
       "bar_format": null,
       "colour": null,
       "elapsed": 0.027942180633544922,
       "initial": 0,
       "n": 0,
       "ncols": null,
       "nrows": 29,
       "postfix": null,
       "prefix": "Eval batches",
       "rate": null,
       "total": 65,
       "unit": "it",
       "unit_divisor": 1000,
       "unit_scale": false
      },
      "application/vnd.jupyter.widget-view+json": {
       "model_id": "",
       "version_major": 2,
       "version_minor": 0
      },
      "text/plain": [
       "Eval batches:   0%|          | 0/65 [00:00<?, ?it/s]"
      ]
     },
     "metadata": {},
     "output_type": "display_data"
    },
    {
     "name": "stdout",
     "output_type": "stream",
     "text": [
      "Epoch 1 - Train Loss: 1.493 - Eval Loss: 1.720 - Eval Accuracy: 0.474 - Time 0.9\n"
     ]
    },
    {
     "data": {
      "application/json": {
       "ascii": false,
       "bar_format": null,
       "colour": null,
       "elapsed": 0.021506309509277344,
       "initial": 0,
       "n": 0,
       "ncols": null,
       "nrows": 29,
       "postfix": null,
       "prefix": "Train batches",
       "rate": null,
       "total": 262,
       "unit": "it",
       "unit_divisor": 1000,
       "unit_scale": false
      },
      "application/vnd.jupyter.widget-view+json": {
       "model_id": "",
       "version_major": 2,
       "version_minor": 0
      },
      "text/plain": [
       "Train batches:   0%|          | 0/262 [00:00<?, ?it/s]"
      ]
     },
     "metadata": {},
     "output_type": "display_data"
    },
    {
     "data": {
      "application/json": {
       "ascii": false,
       "bar_format": null,
       "colour": null,
       "elapsed": 0.01897716522216797,
       "initial": 0,
       "n": 0,
       "ncols": null,
       "nrows": 29,
       "postfix": null,
       "prefix": "Eval batches",
       "rate": null,
       "total": 65,
       "unit": "it",
       "unit_divisor": 1000,
       "unit_scale": false
      },
      "application/vnd.jupyter.widget-view+json": {
       "model_id": "",
       "version_major": 2,
       "version_minor": 0
      },
      "text/plain": [
       "Eval batches:   0%|          | 0/65 [00:00<?, ?it/s]"
      ]
     },
     "metadata": {},
     "output_type": "display_data"
    },
    {
     "name": "stdout",
     "output_type": "stream",
     "text": [
      "Epoch 2 - Train Loss: 1.139 - Eval Loss: 1.742 - Eval Accuracy: 0.510 - Time 0.8\n"
     ]
    },
    {
     "data": {
      "application/json": {
       "ascii": false,
       "bar_format": null,
       "colour": null,
       "elapsed": 0.023848533630371094,
       "initial": 0,
       "n": 0,
       "ncols": null,
       "nrows": 29,
       "postfix": null,
       "prefix": "Train batches",
       "rate": null,
       "total": 262,
       "unit": "it",
       "unit_divisor": 1000,
       "unit_scale": false
      },
      "application/vnd.jupyter.widget-view+json": {
       "model_id": "",
       "version_major": 2,
       "version_minor": 0
      },
      "text/plain": [
       "Train batches:   0%|          | 0/262 [00:00<?, ?it/s]"
      ]
     },
     "metadata": {},
     "output_type": "display_data"
    },
    {
     "data": {
      "application/json": {
       "ascii": false,
       "bar_format": null,
       "colour": null,
       "elapsed": 0.02907872200012207,
       "initial": 0,
       "n": 0,
       "ncols": null,
       "nrows": 29,
       "postfix": null,
       "prefix": "Eval batches",
       "rate": null,
       "total": 65,
       "unit": "it",
       "unit_divisor": 1000,
       "unit_scale": false
      },
      "application/vnd.jupyter.widget-view+json": {
       "model_id": "",
       "version_major": 2,
       "version_minor": 0
      },
      "text/plain": [
       "Eval batches:   0%|          | 0/65 [00:00<?, ?it/s]"
      ]
     },
     "metadata": {},
     "output_type": "display_data"
    },
    {
     "name": "stdout",
     "output_type": "stream",
     "text": [
      "Epoch 3 - Train Loss: 1.040 - Eval Loss: 1.757 - Eval Accuracy: 0.518 - Time 0.9\n"
     ]
    },
    {
     "data": {
      "application/json": {
       "ascii": false,
       "bar_format": null,
       "colour": null,
       "elapsed": 0.025053977966308594,
       "initial": 0,
       "n": 0,
       "ncols": null,
       "nrows": 29,
       "postfix": null,
       "prefix": "Train batches",
       "rate": null,
       "total": 262,
       "unit": "it",
       "unit_divisor": 1000,
       "unit_scale": false
      },
      "application/vnd.jupyter.widget-view+json": {
       "model_id": "",
       "version_major": 2,
       "version_minor": 0
      },
      "text/plain": [
       "Train batches:   0%|          | 0/262 [00:00<?, ?it/s]"
      ]
     },
     "metadata": {},
     "output_type": "display_data"
    },
    {
     "data": {
      "application/json": {
       "ascii": false,
       "bar_format": null,
       "colour": null,
       "elapsed": 0.01958918571472168,
       "initial": 0,
       "n": 0,
       "ncols": null,
       "nrows": 29,
       "postfix": null,
       "prefix": "Eval batches",
       "rate": null,
       "total": 65,
       "unit": "it",
       "unit_divisor": 1000,
       "unit_scale": false
      },
      "application/vnd.jupyter.widget-view+json": {
       "model_id": "",
       "version_major": 2,
       "version_minor": 0
      },
      "text/plain": [
       "Eval batches:   0%|          | 0/65 [00:00<?, ?it/s]"
      ]
     },
     "metadata": {},
     "output_type": "display_data"
    },
    {
     "name": "stdout",
     "output_type": "stream",
     "text": [
      "Epoch 4 - Train Loss: 1.017 - Eval Loss: 1.772 - Eval Accuracy: 0.549 - Time 0.9\n"
     ]
    },
    {
     "data": {
      "application/json": {
       "ascii": false,
       "bar_format": null,
       "colour": null,
       "elapsed": 0.02031087875366211,
       "initial": 0,
       "n": 0,
       "ncols": null,
       "nrows": 29,
       "postfix": null,
       "prefix": "Train batches",
       "rate": null,
       "total": 262,
       "unit": "it",
       "unit_divisor": 1000,
       "unit_scale": false
      },
      "application/vnd.jupyter.widget-view+json": {
       "model_id": "",
       "version_major": 2,
       "version_minor": 0
      },
      "text/plain": [
       "Train batches:   0%|          | 0/262 [00:00<?, ?it/s]"
      ]
     },
     "metadata": {},
     "output_type": "display_data"
    },
    {
     "data": {
      "application/json": {
       "ascii": false,
       "bar_format": null,
       "colour": null,
       "elapsed": 0.01648855209350586,
       "initial": 0,
       "n": 0,
       "ncols": null,
       "nrows": 29,
       "postfix": null,
       "prefix": "Eval batches",
       "rate": null,
       "total": 65,
       "unit": "it",
       "unit_divisor": 1000,
       "unit_scale": false
      },
      "application/vnd.jupyter.widget-view+json": {
       "model_id": "",
       "version_major": 2,
       "version_minor": 0
      },
      "text/plain": [
       "Eval batches:   0%|          | 0/65 [00:00<?, ?it/s]"
      ]
     },
     "metadata": {},
     "output_type": "display_data"
    },
    {
     "name": "stdout",
     "output_type": "stream",
     "text": [
      "Epoch 5 - Train Loss: 1.000 - Eval Loss: 1.833 - Eval Accuracy: 0.529 - Time 1.0\n"
     ]
    },
    {
     "data": {
      "application/json": {
       "ascii": false,
       "bar_format": null,
       "colour": null,
       "elapsed": 0.022354841232299805,
       "initial": 0,
       "n": 0,
       "ncols": null,
       "nrows": 29,
       "postfix": null,
       "prefix": "Train batches",
       "rate": null,
       "total": 262,
       "unit": "it",
       "unit_divisor": 1000,
       "unit_scale": false
      },
      "application/vnd.jupyter.widget-view+json": {
       "model_id": "",
       "version_major": 2,
       "version_minor": 0
      },
      "text/plain": [
       "Train batches:   0%|          | 0/262 [00:00<?, ?it/s]"
      ]
     },
     "metadata": {},
     "output_type": "display_data"
    },
    {
     "data": {
      "application/json": {
       "ascii": false,
       "bar_format": null,
       "colour": null,
       "elapsed": 0.018854618072509766,
       "initial": 0,
       "n": 0,
       "ncols": null,
       "nrows": 29,
       "postfix": null,
       "prefix": "Eval batches",
       "rate": null,
       "total": 65,
       "unit": "it",
       "unit_divisor": 1000,
       "unit_scale": false
      },
      "application/vnd.jupyter.widget-view+json": {
       "model_id": "",
       "version_major": 2,
       "version_minor": 0
      },
      "text/plain": [
       "Eval batches:   0%|          | 0/65 [00:00<?, ?it/s]"
      ]
     },
     "metadata": {},
     "output_type": "display_data"
    },
    {
     "name": "stdout",
     "output_type": "stream",
     "text": [
      "Epoch 6 - Train Loss: 0.969 - Eval Loss: 1.999 - Eval Accuracy: 0.494 - Time 1.0\n"
     ]
    },
    {
     "data": {
      "application/json": {
       "ascii": false,
       "bar_format": null,
       "colour": null,
       "elapsed": 0.029451608657836914,
       "initial": 0,
       "n": 0,
       "ncols": null,
       "nrows": 29,
       "postfix": null,
       "prefix": "Train batches",
       "rate": null,
       "total": 262,
       "unit": "it",
       "unit_divisor": 1000,
       "unit_scale": false
      },
      "application/vnd.jupyter.widget-view+json": {
       "model_id": "",
       "version_major": 2,
       "version_minor": 0
      },
      "text/plain": [
       "Train batches:   0%|          | 0/262 [00:00<?, ?it/s]"
      ]
     },
     "metadata": {},
     "output_type": "display_data"
    },
    {
     "data": {
      "application/json": {
       "ascii": false,
       "bar_format": null,
       "colour": null,
       "elapsed": 0.08117437362670898,
       "initial": 0,
       "n": 0,
       "ncols": null,
       "nrows": 29,
       "postfix": null,
       "prefix": "Eval batches",
       "rate": null,
       "total": 65,
       "unit": "it",
       "unit_divisor": 1000,
       "unit_scale": false
      },
      "application/vnd.jupyter.widget-view+json": {
       "model_id": "",
       "version_major": 2,
       "version_minor": 0
      },
      "text/plain": [
       "Eval batches:   0%|          | 0/65 [00:00<?, ?it/s]"
      ]
     },
     "metadata": {},
     "output_type": "display_data"
    },
    {
     "name": "stdout",
     "output_type": "stream",
     "text": [
      "Epoch 7 - Train Loss: 0.982 - Eval Loss: 2.044 - Eval Accuracy: 0.533 - Time 1.9\n"
     ]
    },
    {
     "data": {
      "application/json": {
       "ascii": false,
       "bar_format": null,
       "colour": null,
       "elapsed": 0.03917360305786133,
       "initial": 0,
       "n": 0,
       "ncols": null,
       "nrows": 29,
       "postfix": null,
       "prefix": "Train batches",
       "rate": null,
       "total": 262,
       "unit": "it",
       "unit_divisor": 1000,
       "unit_scale": false
      },
      "application/vnd.jupyter.widget-view+json": {
       "model_id": "",
       "version_major": 2,
       "version_minor": 0
      },
      "text/plain": [
       "Train batches:   0%|          | 0/262 [00:00<?, ?it/s]"
      ]
     },
     "metadata": {},
     "output_type": "display_data"
    },
    {
     "data": {
      "application/json": {
       "ascii": false,
       "bar_format": null,
       "colour": null,
       "elapsed": 0.02720189094543457,
       "initial": 0,
       "n": 0,
       "ncols": null,
       "nrows": 29,
       "postfix": null,
       "prefix": "Eval batches",
       "rate": null,
       "total": 65,
       "unit": "it",
       "unit_divisor": 1000,
       "unit_scale": false
      },
      "application/vnd.jupyter.widget-view+json": {
       "model_id": "",
       "version_major": 2,
       "version_minor": 0
      },
      "text/plain": [
       "Eval batches:   0%|          | 0/65 [00:00<?, ?it/s]"
      ]
     },
     "metadata": {},
     "output_type": "display_data"
    },
    {
     "name": "stdout",
     "output_type": "stream",
     "text": [
      "Epoch 8 - Train Loss: 0.963 - Eval Loss: 1.930 - Eval Accuracy: 0.511 - Time 2.1\n"
     ]
    },
    {
     "data": {
      "application/json": {
       "ascii": false,
       "bar_format": null,
       "colour": null,
       "elapsed": 0.04130887985229492,
       "initial": 0,
       "n": 0,
       "ncols": null,
       "nrows": 29,
       "postfix": null,
       "prefix": "Train batches",
       "rate": null,
       "total": 262,
       "unit": "it",
       "unit_divisor": 1000,
       "unit_scale": false
      },
      "application/vnd.jupyter.widget-view+json": {
       "model_id": "",
       "version_major": 2,
       "version_minor": 0
      },
      "text/plain": [
       "Train batches:   0%|          | 0/262 [00:00<?, ?it/s]"
      ]
     },
     "metadata": {},
     "output_type": "display_data"
    },
    {
     "data": {
      "application/json": {
       "ascii": false,
       "bar_format": null,
       "colour": null,
       "elapsed": 0.039940595626831055,
       "initial": 0,
       "n": 0,
       "ncols": null,
       "nrows": 29,
       "postfix": null,
       "prefix": "Eval batches",
       "rate": null,
       "total": 65,
       "unit": "it",
       "unit_divisor": 1000,
       "unit_scale": false
      },
      "application/vnd.jupyter.widget-view+json": {
       "model_id": "",
       "version_major": 2,
       "version_minor": 0
      },
      "text/plain": [
       "Eval batches:   0%|          | 0/65 [00:00<?, ?it/s]"
      ]
     },
     "metadata": {},
     "output_type": "display_data"
    },
    {
     "name": "stdout",
     "output_type": "stream",
     "text": [
      "Epoch 9 - Train Loss: 0.930 - Eval Loss: 1.929 - Eval Accuracy: 0.527 - Time 1.8\n"
     ]
    },
    {
     "data": {
      "application/json": {
       "ascii": false,
       "bar_format": null,
       "colour": null,
       "elapsed": 0.023579835891723633,
       "initial": 0,
       "n": 0,
       "ncols": null,
       "nrows": 29,
       "postfix": null,
       "prefix": "Train batches",
       "rate": null,
       "total": 262,
       "unit": "it",
       "unit_divisor": 1000,
       "unit_scale": false
      },
      "application/vnd.jupyter.widget-view+json": {
       "model_id": "",
       "version_major": 2,
       "version_minor": 0
      },
      "text/plain": [
       "Train batches:   0%|          | 0/262 [00:00<?, ?it/s]"
      ]
     },
     "metadata": {},
     "output_type": "display_data"
    },
    {
     "data": {
      "application/json": {
       "ascii": false,
       "bar_format": null,
       "colour": null,
       "elapsed": 0.02310323715209961,
       "initial": 0,
       "n": 0,
       "ncols": null,
       "nrows": 29,
       "postfix": null,
       "prefix": "Eval batches",
       "rate": null,
       "total": 65,
       "unit": "it",
       "unit_divisor": 1000,
       "unit_scale": false
      },
      "application/vnd.jupyter.widget-view+json": {
       "model_id": "",
       "version_major": 2,
       "version_minor": 0
      },
      "text/plain": [
       "Eval batches:   0%|          | 0/65 [00:00<?, ?it/s]"
      ]
     },
     "metadata": {},
     "output_type": "display_data"
    },
    {
     "name": "stdout",
     "output_type": "stream",
     "text": [
      "Epoch 10 - Train Loss: 0.939 - Eval Loss: 1.971 - Eval Accuracy: 0.570 - Time 1.2\n"
     ]
    }
   ],
   "source": [
    "# Train the model\n",
    "torch.manual_seed(123)\n",
    "vocab_size = len(vocab)\n",
    "model = SimpleRNNWithState(vocab_size, 64)\n",
    "train_state_network(model,\n",
    "                    grouped_train_loader,\n",
    "                    grouped_val_loader,\n",
    "                    n_epochs=10,\n",
    "                    learning_rate=3e-3)"
   ]
  },
  {
   "cell_type": "markdown",
   "id": "0d171af5-9bcc-4139-9956-b3bf4bf44a3d",
   "metadata": {},
   "source": [
    "## Creating more signal\n",
    "\n",
    "Instead of using three tokens to predict the next one we could make the network predict the next token after every single token. This way we add even more *recurrency* to the network and it updates it's weights with more data."
   ]
  },
  {
   "cell_type": "markdown",
   "id": "a3322091-ee10-4154-a760-1a05dd930604",
   "metadata": {},
   "source": [
    "### Refactoring the data"
   ]
  },
  {
   "cell_type": "code",
   "execution_count": 20,
   "id": "7b587b18-f0ab-4bbf-8106-cc4393c46f1c",
   "metadata": {},
   "outputs": [],
   "source": [
    "def apply_window(sequence: List,\n",
    "                 seq_length: int=3,\n",
    "                 offset: int=1) -> List:\n",
    "    \"\"\"\n",
    "    Apply windowing to a sequence of tokens.\n",
    "    \"\"\"\n",
    "    windowed_seq = []\n",
    "    for i in range(0, len(sequence) - seq_length, offset):\n",
    "        features = sequence[i: i + seq_length]\n",
    "        targets = sequence[i + offset: i + seq_length + offset]\n",
    "        windowed_seq.append(tuple([torch.tensor(features),\n",
    "                                   torch.tensor(targets)]))\n",
    "    return windowed_seq"
   ]
  },
  {
   "cell_type": "code",
   "execution_count": 21,
   "id": "7e8f7857-ef6c-462c-9287-5b437332f091",
   "metadata": {},
   "outputs": [
    {
     "data": {
      "text/plain": [
       "[0, 1, 2, 1, 3, 1, 4, 1, 5, 1]"
      ]
     },
     "execution_count": 21,
     "metadata": {},
     "output_type": "execute_result"
    }
   ],
   "source": [
    "# Tokenize all data\n",
    "tokens = [tok2idx[tok] for tok in tokens]\n",
    "tokens[:10]"
   ]
  },
  {
   "cell_type": "code",
   "execution_count": 22,
   "id": "9b799f36-66fc-4c51-a9f7-74d42ae2943c",
   "metadata": {},
   "outputs": [],
   "source": [
    "def create_dataset(sequences: List,\n",
    "                   seq_length: int=3, \n",
    "                   offset: int=1,\n",
    "                   batch_size: int=64):\n",
    "    \"\"\"\n",
    "    Wrapper to apply all preprocessing and \n",
    "    return a NumbersDataset.\n",
    "    \"\"\"\n",
    "    windowed_seqs = apply_window(sequences, seq_length, offset)\n",
    "    chunks = group_chunks(windowed_seqs, batch_size)\n",
    "    # Flatten the sequences inside the chunks\n",
    "    grouped_seqs = [seq for chunk in chunks for seq in chunk]\n",
    "    return NumbersDataset(grouped_seqs)"
   ]
  },
  {
   "cell_type": "code",
   "execution_count": 23,
   "id": "42ed4fc9-4105-4f40-a02a-22ac491b3d4a",
   "metadata": {},
   "outputs": [
    {
     "data": {
      "text/plain": [
       "[0, 1, 2, 1, 3, 1, 4, 1, 5, 1]"
      ]
     },
     "execution_count": 23,
     "metadata": {},
     "output_type": "execute_result"
    }
   ],
   "source": [
    "# Split into train/val\n",
    "train_tokens, val_tokens = train_test_split(tokens,\n",
    "                                            test_size=.2,\n",
    "                                            shuffle=False)\n",
    "train_tokens[:10]"
   ]
  },
  {
   "cell_type": "code",
   "execution_count": 24,
   "id": "23162bd6-1717-4838-8f67-5ad71e1cfa3b",
   "metadata": {},
   "outputs": [
    {
     "data": {
      "text/plain": [
       "(tensor([[ 0,  1,  2],\n",
       "         [ 2, 28, 12],\n",
       "         [28, 25,  8],\n",
       "         [ 1,  5, 28],\n",
       "         [28, 14,  1],\n",
       "         [ 8, 28, 26],\n",
       "         [ 8,  1,  0],\n",
       "         [28, 26,  1],\n",
       "         [28, 27,  7],\n",
       "         [16,  1,  0]]),\n",
       " tensor([[ 1,  2,  1],\n",
       "         [28, 12,  1],\n",
       "         [25,  8,  1],\n",
       "         [ 5, 28, 22],\n",
       "         [14,  1,  7],\n",
       "         [28, 26,  1],\n",
       "         [ 1,  0, 29],\n",
       "         [26,  1,  0],\n",
       "         [27,  7,  1],\n",
       "         [ 1,  0, 29]]))"
      ]
     },
     "execution_count": 24,
     "metadata": {},
     "output_type": "execute_result"
    }
   ],
   "source": [
    "# Create the new datasets\n",
    "train_set = create_dataset(train_tokens)\n",
    "val_set = create_dataset(val_tokens)\n",
    "train_set[:10]"
   ]
  },
  {
   "cell_type": "code",
   "execution_count": 25,
   "id": "3c1789ce-b3c4-4fcb-92ab-ac42fa42d331",
   "metadata": {},
   "outputs": [],
   "source": [
    "# Create dataloaders\n",
    "train_loader = DataLoader(train_set, batch_size=batch_size, shuffle=False)\n",
    "val_loader = DataLoader(val_set, batch_size=batch_size, shuffle=False)"
   ]
  },
  {
   "cell_type": "markdown",
   "id": "89812748-9d39-4dae-9c02-9080a0e4b1b1",
   "metadata": {},
   "source": [
    "### RNN with longer context\n",
    "\n",
    "- Implement a for-loop to handle longer sequences with more context as well as predicting further into the future."
   ]
  },
  {
   "cell_type": "code",
   "execution_count": 26,
   "id": "7c867b93-e12a-42db-b20a-db54419eb76d",
   "metadata": {},
   "outputs": [],
   "source": [
    "class SimpleRNNWithState(torch.nn.Module):\n",
    "    def __init__(self,\n",
    "                 vocab_size: int,\n",
    "                 n_hidden: int=3):\n",
    "        super(SimpleRNNWithState, self).__init__()\n",
    "        self.vocab_size = vocab_size\n",
    "        self.n_hidden = n_hidden\n",
    "        \n",
    "        # Layers\n",
    "        self.input_layer = torch.nn.Embedding(vocab_size, n_hidden) # Lookup table\n",
    "        self.hidden_layer = torch.nn.Linear(n_hidden, n_hidden)\n",
    "        self.output_layer = torch.nn.Linear(n_hidden, vocab_size)\n",
    "        \n",
    "        # Hidden state\n",
    "        self.hidden_state = 0\n",
    "        \n",
    "    def forward(self, \n",
    "                X: torch.tensor,\n",
    "                y: Union[None, torch.tensor]=None) -> Dict:\n",
    "        assert X.ndim == 2, \"X must be a 2D tensor of shape (batch_size, seq_length).\"\n",
    "        if y is not None:\n",
    "            assert all(xdim==ydim for xdim, ydim in zip(X.shape, y.shape)), \"X and y shapes must match.\"\n",
    "        \n",
    "        # Implement a for-loop\n",
    "        last_hidden_state = []\n",
    "        for i in range(X.shape[1]):\n",
    "            self.hidden_state = self.hidden_state + self.input_layer(X[:, i])\n",
    "            self.hidden_state = self.hidden_layer(self.hidden_state)\n",
    "            self.hidden_state = torch.nn.functional.relu(self.hidden_state)\n",
    "            out = self.output_layer(self.hidden_state) # (batch_size, vocab_size)\n",
    "            last_hidden_state.append(out) # (seq_length, batch_size, vocab_size)\n",
    "        \n",
    "        # Stack outputs to group the sequences into each row of the batch\n",
    "        # (seq_length, batch_size, vocab_size) -> (batch_size, seq_length, vocab_size)\n",
    "        last_hidden_state = torch.stack(last_hidden_state, dim=1)\n",
    "        \n",
    "        # Prevent backpropagating the derivatives through all hidden states\n",
    "        self.hidden_state = self.hidden_state.detach()\n",
    "        model_output = {\"last_hidden_state\": last_hidden_state}\n",
    "        \n",
    "        # Calculate the loss\n",
    "        if y is not None:\n",
    "            # Reshape last hidden states and targets to flatten the sequences\n",
    "            # (batch_size, seq_length, vocab_size) -> (batch_size * seq_length, vocab_size)\n",
    "            last_hidden_state = last_hidden_state.view(-1, self.vocab_size)\n",
    "            # (batch_size, seq_length) -> (batch_size * seq_length)\n",
    "            y = y.view(-1,)\n",
    "            loss = torch.nn.functional.cross_entropy(last_hidden_state, y)\n",
    "            model_output.update({\"loss\": loss})\n",
    "        return model_output\n",
    "    \n",
    "    def reset(self):\n",
    "        \"\"\"\n",
    "        Resets the previous hidden states to zero\n",
    "        \"\"\"\n",
    "        self.hidden_state = 0"
   ]
  },
  {
   "cell_type": "code",
   "execution_count": 27,
   "id": "da119fa5-76eb-4560-b4db-5d0593569110",
   "metadata": {},
   "outputs": [
    {
     "data": {
      "application/json": {
       "ascii": false,
       "bar_format": null,
       "colour": null,
       "elapsed": 0.03387022018432617,
       "initial": 0,
       "n": 0,
       "ncols": null,
       "nrows": 29,
       "postfix": null,
       "prefix": "Epochs",
       "rate": null,
       "total": 15,
       "unit": "it",
       "unit_divisor": 1000,
       "unit_scale": false
      },
      "application/vnd.jupyter.widget-view+json": {
       "model_id": "1b8435f899b5406ea23a6fc9fa51b727",
       "version_major": 2,
       "version_minor": 0
      },
      "text/plain": [
       "Epochs:   0%|          | 0/15 [00:00<?, ?it/s]"
      ]
     },
     "metadata": {},
     "output_type": "display_data"
    },
    {
     "data": {
      "application/json": {
       "ascii": false,
       "bar_format": null,
       "colour": null,
       "elapsed": 0.01957869529724121,
       "initial": 0,
       "n": 0,
       "ncols": null,
       "nrows": 29,
       "postfix": null,
       "prefix": "Train batches",
       "rate": null,
       "total": 788,
       "unit": "it",
       "unit_divisor": 1000,
       "unit_scale": false
      },
      "application/vnd.jupyter.widget-view+json": {
       "model_id": "",
       "version_major": 2,
       "version_minor": 0
      },
      "text/plain": [
       "Train batches:   0%|          | 0/788 [00:00<?, ?it/s]"
      ]
     },
     "metadata": {},
     "output_type": "display_data"
    },
    {
     "data": {
      "application/json": {
       "ascii": false,
       "bar_format": null,
       "colour": null,
       "elapsed": 0.031062602996826172,
       "initial": 0,
       "n": 0,
       "ncols": null,
       "nrows": 29,
       "postfix": null,
       "prefix": "Eval batches",
       "rate": null,
       "total": 197,
       "unit": "it",
       "unit_divisor": 1000,
       "unit_scale": false
      },
      "application/vnd.jupyter.widget-view+json": {
       "model_id": "",
       "version_major": 2,
       "version_minor": 0
      },
      "text/plain": [
       "Eval batches:   0%|          | 0/197 [00:00<?, ?it/s]"
      ]
     },
     "metadata": {},
     "output_type": "display_data"
    },
    {
     "name": "stdout",
     "output_type": "stream",
     "text": [
      "Epoch 1 - Train Loss: 1.388 - Eval Loss: 1.675 - Eval Accuracy: 0.535 - Time 3.4\n"
     ]
    },
    {
     "data": {
      "application/json": {
       "ascii": false,
       "bar_format": null,
       "colour": null,
       "elapsed": 0.02658843994140625,
       "initial": 0,
       "n": 0,
       "ncols": null,
       "nrows": 29,
       "postfix": null,
       "prefix": "Train batches",
       "rate": null,
       "total": 788,
       "unit": "it",
       "unit_divisor": 1000,
       "unit_scale": false
      },
      "application/vnd.jupyter.widget-view+json": {
       "model_id": "",
       "version_major": 2,
       "version_minor": 0
      },
      "text/plain": [
       "Train batches:   0%|          | 0/788 [00:00<?, ?it/s]"
      ]
     },
     "metadata": {},
     "output_type": "display_data"
    },
    {
     "data": {
      "application/json": {
       "ascii": false,
       "bar_format": null,
       "colour": null,
       "elapsed": 0.029847145080566406,
       "initial": 0,
       "n": 0,
       "ncols": null,
       "nrows": 29,
       "postfix": null,
       "prefix": "Eval batches",
       "rate": null,
       "total": 197,
       "unit": "it",
       "unit_divisor": 1000,
       "unit_scale": false
      },
      "application/vnd.jupyter.widget-view+json": {
       "model_id": "",
       "version_major": 2,
       "version_minor": 0
      },
      "text/plain": [
       "Eval batches:   0%|          | 0/197 [00:00<?, ?it/s]"
      ]
     },
     "metadata": {},
     "output_type": "display_data"
    },
    {
     "name": "stdout",
     "output_type": "stream",
     "text": [
      "Epoch 2 - Train Loss: 1.335 - Eval Loss: 1.760 - Eval Accuracy: 0.438 - Time 3.7\n"
     ]
    },
    {
     "data": {
      "application/json": {
       "ascii": false,
       "bar_format": null,
       "colour": null,
       "elapsed": 0.029027462005615234,
       "initial": 0,
       "n": 0,
       "ncols": null,
       "nrows": 29,
       "postfix": null,
       "prefix": "Train batches",
       "rate": null,
       "total": 788,
       "unit": "it",
       "unit_divisor": 1000,
       "unit_scale": false
      },
      "application/vnd.jupyter.widget-view+json": {
       "model_id": "",
       "version_major": 2,
       "version_minor": 0
      },
      "text/plain": [
       "Train batches:   0%|          | 0/788 [00:00<?, ?it/s]"
      ]
     },
     "metadata": {},
     "output_type": "display_data"
    },
    {
     "data": {
      "application/json": {
       "ascii": false,
       "bar_format": null,
       "colour": null,
       "elapsed": 0.022296428680419922,
       "initial": 0,
       "n": 0,
       "ncols": null,
       "nrows": 29,
       "postfix": null,
       "prefix": "Eval batches",
       "rate": null,
       "total": 197,
       "unit": "it",
       "unit_divisor": 1000,
       "unit_scale": false
      },
      "application/vnd.jupyter.widget-view+json": {
       "model_id": "",
       "version_major": 2,
       "version_minor": 0
      },
      "text/plain": [
       "Eval batches:   0%|          | 0/197 [00:00<?, ?it/s]"
      ]
     },
     "metadata": {},
     "output_type": "display_data"
    },
    {
     "name": "stdout",
     "output_type": "stream",
     "text": [
      "Epoch 3 - Train Loss: 1.261 - Eval Loss: 1.840 - Eval Accuracy: 0.476 - Time 3.9\n"
     ]
    },
    {
     "data": {
      "application/json": {
       "ascii": false,
       "bar_format": null,
       "colour": null,
       "elapsed": 0.02843022346496582,
       "initial": 0,
       "n": 0,
       "ncols": null,
       "nrows": 29,
       "postfix": null,
       "prefix": "Train batches",
       "rate": null,
       "total": 788,
       "unit": "it",
       "unit_divisor": 1000,
       "unit_scale": false
      },
      "application/vnd.jupyter.widget-view+json": {
       "model_id": "",
       "version_major": 2,
       "version_minor": 0
      },
      "text/plain": [
       "Train batches:   0%|          | 0/788 [00:00<?, ?it/s]"
      ]
     },
     "metadata": {},
     "output_type": "display_data"
    },
    {
     "data": {
      "application/json": {
       "ascii": false,
       "bar_format": null,
       "colour": null,
       "elapsed": 0.018868446350097656,
       "initial": 0,
       "n": 0,
       "ncols": null,
       "nrows": 29,
       "postfix": null,
       "prefix": "Eval batches",
       "rate": null,
       "total": 197,
       "unit": "it",
       "unit_divisor": 1000,
       "unit_scale": false
      },
      "application/vnd.jupyter.widget-view+json": {
       "model_id": "",
       "version_major": 2,
       "version_minor": 0
      },
      "text/plain": [
       "Eval batches:   0%|          | 0/197 [00:00<?, ?it/s]"
      ]
     },
     "metadata": {},
     "output_type": "display_data"
    },
    {
     "name": "stdout",
     "output_type": "stream",
     "text": [
      "Epoch 4 - Train Loss: 1.244 - Eval Loss: 1.806 - Eval Accuracy: 0.470 - Time 2.9\n"
     ]
    },
    {
     "data": {
      "application/json": {
       "ascii": false,
       "bar_format": null,
       "colour": null,
       "elapsed": 0.01940631866455078,
       "initial": 0,
       "n": 0,
       "ncols": null,
       "nrows": 29,
       "postfix": null,
       "prefix": "Train batches",
       "rate": null,
       "total": 788,
       "unit": "it",
       "unit_divisor": 1000,
       "unit_scale": false
      },
      "application/vnd.jupyter.widget-view+json": {
       "model_id": "",
       "version_major": 2,
       "version_minor": 0
      },
      "text/plain": [
       "Train batches:   0%|          | 0/788 [00:00<?, ?it/s]"
      ]
     },
     "metadata": {},
     "output_type": "display_data"
    },
    {
     "data": {
      "application/json": {
       "ascii": false,
       "bar_format": null,
       "colour": null,
       "elapsed": 0.021249771118164062,
       "initial": 0,
       "n": 0,
       "ncols": null,
       "nrows": 29,
       "postfix": null,
       "prefix": "Eval batches",
       "rate": null,
       "total": 197,
       "unit": "it",
       "unit_divisor": 1000,
       "unit_scale": false
      },
      "application/vnd.jupyter.widget-view+json": {
       "model_id": "",
       "version_major": 2,
       "version_minor": 0
      },
      "text/plain": [
       "Eval batches:   0%|          | 0/197 [00:00<?, ?it/s]"
      ]
     },
     "metadata": {},
     "output_type": "display_data"
    },
    {
     "name": "stdout",
     "output_type": "stream",
     "text": [
      "Epoch 5 - Train Loss: 1.222 - Eval Loss: 1.849 - Eval Accuracy: 0.429 - Time 2.8\n"
     ]
    },
    {
     "data": {
      "application/json": {
       "ascii": false,
       "bar_format": null,
       "colour": null,
       "elapsed": 0.026397705078125,
       "initial": 0,
       "n": 0,
       "ncols": null,
       "nrows": 29,
       "postfix": null,
       "prefix": "Train batches",
       "rate": null,
       "total": 788,
       "unit": "it",
       "unit_divisor": 1000,
       "unit_scale": false
      },
      "application/vnd.jupyter.widget-view+json": {
       "model_id": "",
       "version_major": 2,
       "version_minor": 0
      },
      "text/plain": [
       "Train batches:   0%|          | 0/788 [00:00<?, ?it/s]"
      ]
     },
     "metadata": {},
     "output_type": "display_data"
    },
    {
     "data": {
      "application/json": {
       "ascii": false,
       "bar_format": null,
       "colour": null,
       "elapsed": 0.032946109771728516,
       "initial": 0,
       "n": 0,
       "ncols": null,
       "nrows": 29,
       "postfix": null,
       "prefix": "Eval batches",
       "rate": null,
       "total": 197,
       "unit": "it",
       "unit_divisor": 1000,
       "unit_scale": false
      },
      "application/vnd.jupyter.widget-view+json": {
       "model_id": "",
       "version_major": 2,
       "version_minor": 0
      },
      "text/plain": [
       "Eval batches:   0%|          | 0/197 [00:00<?, ?it/s]"
      ]
     },
     "metadata": {},
     "output_type": "display_data"
    },
    {
     "name": "stdout",
     "output_type": "stream",
     "text": [
      "Epoch 6 - Train Loss: 1.246 - Eval Loss: 1.769 - Eval Accuracy: 0.513 - Time 3.1\n"
     ]
    },
    {
     "data": {
      "application/json": {
       "ascii": false,
       "bar_format": null,
       "colour": null,
       "elapsed": 0.031275033950805664,
       "initial": 0,
       "n": 0,
       "ncols": null,
       "nrows": 29,
       "postfix": null,
       "prefix": "Train batches",
       "rate": null,
       "total": 788,
       "unit": "it",
       "unit_divisor": 1000,
       "unit_scale": false
      },
      "application/vnd.jupyter.widget-view+json": {
       "model_id": "",
       "version_major": 2,
       "version_minor": 0
      },
      "text/plain": [
       "Train batches:   0%|          | 0/788 [00:00<?, ?it/s]"
      ]
     },
     "metadata": {},
     "output_type": "display_data"
    },
    {
     "data": {
      "application/json": {
       "ascii": false,
       "bar_format": null,
       "colour": null,
       "elapsed": 0.020977497100830078,
       "initial": 0,
       "n": 0,
       "ncols": null,
       "nrows": 29,
       "postfix": null,
       "prefix": "Eval batches",
       "rate": null,
       "total": 197,
       "unit": "it",
       "unit_divisor": 1000,
       "unit_scale": false
      },
      "application/vnd.jupyter.widget-view+json": {
       "model_id": "",
       "version_major": 2,
       "version_minor": 0
      },
      "text/plain": [
       "Eval batches:   0%|          | 0/197 [00:00<?, ?it/s]"
      ]
     },
     "metadata": {},
     "output_type": "display_data"
    },
    {
     "name": "stdout",
     "output_type": "stream",
     "text": [
      "Epoch 7 - Train Loss: 1.261 - Eval Loss: 1.818 - Eval Accuracy: 0.509 - Time 3.2\n"
     ]
    },
    {
     "data": {
      "application/json": {
       "ascii": false,
       "bar_format": null,
       "colour": null,
       "elapsed": 0.02575063705444336,
       "initial": 0,
       "n": 0,
       "ncols": null,
       "nrows": 29,
       "postfix": null,
       "prefix": "Train batches",
       "rate": null,
       "total": 788,
       "unit": "it",
       "unit_divisor": 1000,
       "unit_scale": false
      },
      "application/vnd.jupyter.widget-view+json": {
       "model_id": "",
       "version_major": 2,
       "version_minor": 0
      },
      "text/plain": [
       "Train batches:   0%|          | 0/788 [00:00<?, ?it/s]"
      ]
     },
     "metadata": {},
     "output_type": "display_data"
    },
    {
     "data": {
      "application/json": {
       "ascii": false,
       "bar_format": null,
       "colour": null,
       "elapsed": 0.026720523834228516,
       "initial": 0,
       "n": 0,
       "ncols": null,
       "nrows": 29,
       "postfix": null,
       "prefix": "Eval batches",
       "rate": null,
       "total": 197,
       "unit": "it",
       "unit_divisor": 1000,
       "unit_scale": false
      },
      "application/vnd.jupyter.widget-view+json": {
       "model_id": "",
       "version_major": 2,
       "version_minor": 0
      },
      "text/plain": [
       "Eval batches:   0%|          | 0/197 [00:00<?, ?it/s]"
      ]
     },
     "metadata": {},
     "output_type": "display_data"
    },
    {
     "name": "stdout",
     "output_type": "stream",
     "text": [
      "Epoch 8 - Train Loss: 1.219 - Eval Loss: 1.792 - Eval Accuracy: 0.497 - Time 2.9\n"
     ]
    },
    {
     "data": {
      "application/json": {
       "ascii": false,
       "bar_format": null,
       "colour": null,
       "elapsed": 0.029766559600830078,
       "initial": 0,
       "n": 0,
       "ncols": null,
       "nrows": 29,
       "postfix": null,
       "prefix": "Train batches",
       "rate": null,
       "total": 788,
       "unit": "it",
       "unit_divisor": 1000,
       "unit_scale": false
      },
      "application/vnd.jupyter.widget-view+json": {
       "model_id": "",
       "version_major": 2,
       "version_minor": 0
      },
      "text/plain": [
       "Train batches:   0%|          | 0/788 [00:00<?, ?it/s]"
      ]
     },
     "metadata": {},
     "output_type": "display_data"
    },
    {
     "data": {
      "application/json": {
       "ascii": false,
       "bar_format": null,
       "colour": null,
       "elapsed": 0.02837657928466797,
       "initial": 0,
       "n": 0,
       "ncols": null,
       "nrows": 29,
       "postfix": null,
       "prefix": "Eval batches",
       "rate": null,
       "total": 197,
       "unit": "it",
       "unit_divisor": 1000,
       "unit_scale": false
      },
      "application/vnd.jupyter.widget-view+json": {
       "model_id": "",
       "version_major": 2,
       "version_minor": 0
      },
      "text/plain": [
       "Eval batches:   0%|          | 0/197 [00:00<?, ?it/s]"
      ]
     },
     "metadata": {},
     "output_type": "display_data"
    },
    {
     "name": "stdout",
     "output_type": "stream",
     "text": [
      "Epoch 9 - Train Loss: 1.191 - Eval Loss: 1.869 - Eval Accuracy: 0.441 - Time 2.8\n"
     ]
    },
    {
     "data": {
      "application/json": {
       "ascii": false,
       "bar_format": null,
       "colour": null,
       "elapsed": 0.05324149131774902,
       "initial": 0,
       "n": 0,
       "ncols": null,
       "nrows": 29,
       "postfix": null,
       "prefix": "Train batches",
       "rate": null,
       "total": 788,
       "unit": "it",
       "unit_divisor": 1000,
       "unit_scale": false
      },
      "application/vnd.jupyter.widget-view+json": {
       "model_id": "",
       "version_major": 2,
       "version_minor": 0
      },
      "text/plain": [
       "Train batches:   0%|          | 0/788 [00:00<?, ?it/s]"
      ]
     },
     "metadata": {},
     "output_type": "display_data"
    },
    {
     "data": {
      "application/json": {
       "ascii": false,
       "bar_format": null,
       "colour": null,
       "elapsed": 0.022129535675048828,
       "initial": 0,
       "n": 0,
       "ncols": null,
       "nrows": 29,
       "postfix": null,
       "prefix": "Eval batches",
       "rate": null,
       "total": 197,
       "unit": "it",
       "unit_divisor": 1000,
       "unit_scale": false
      },
      "application/vnd.jupyter.widget-view+json": {
       "model_id": "",
       "version_major": 2,
       "version_minor": 0
      },
      "text/plain": [
       "Eval batches:   0%|          | 0/197 [00:00<?, ?it/s]"
      ]
     },
     "metadata": {},
     "output_type": "display_data"
    },
    {
     "name": "stdout",
     "output_type": "stream",
     "text": [
      "Epoch 10 - Train Loss: 1.191 - Eval Loss: 1.813 - Eval Accuracy: 0.544 - Time 3.0\n"
     ]
    },
    {
     "data": {
      "application/json": {
       "ascii": false,
       "bar_format": null,
       "colour": null,
       "elapsed": 0.02333211898803711,
       "initial": 0,
       "n": 0,
       "ncols": null,
       "nrows": 29,
       "postfix": null,
       "prefix": "Train batches",
       "rate": null,
       "total": 788,
       "unit": "it",
       "unit_divisor": 1000,
       "unit_scale": false
      },
      "application/vnd.jupyter.widget-view+json": {
       "model_id": "",
       "version_major": 2,
       "version_minor": 0
      },
      "text/plain": [
       "Train batches:   0%|          | 0/788 [00:00<?, ?it/s]"
      ]
     },
     "metadata": {},
     "output_type": "display_data"
    },
    {
     "data": {
      "application/json": {
       "ascii": false,
       "bar_format": null,
       "colour": null,
       "elapsed": 0.021215438842773438,
       "initial": 0,
       "n": 0,
       "ncols": null,
       "nrows": 29,
       "postfix": null,
       "prefix": "Eval batches",
       "rate": null,
       "total": 197,
       "unit": "it",
       "unit_divisor": 1000,
       "unit_scale": false
      },
      "application/vnd.jupyter.widget-view+json": {
       "model_id": "",
       "version_major": 2,
       "version_minor": 0
      },
      "text/plain": [
       "Eval batches:   0%|          | 0/197 [00:00<?, ?it/s]"
      ]
     },
     "metadata": {},
     "output_type": "display_data"
    },
    {
     "name": "stdout",
     "output_type": "stream",
     "text": [
      "Epoch 11 - Train Loss: 1.188 - Eval Loss: 2.034 - Eval Accuracy: 0.459 - Time 2.9\n"
     ]
    },
    {
     "data": {
      "application/json": {
       "ascii": false,
       "bar_format": null,
       "colour": null,
       "elapsed": 0.0231935977935791,
       "initial": 0,
       "n": 0,
       "ncols": null,
       "nrows": 29,
       "postfix": null,
       "prefix": "Train batches",
       "rate": null,
       "total": 788,
       "unit": "it",
       "unit_divisor": 1000,
       "unit_scale": false
      },
      "application/vnd.jupyter.widget-view+json": {
       "model_id": "",
       "version_major": 2,
       "version_minor": 0
      },
      "text/plain": [
       "Train batches:   0%|          | 0/788 [00:00<?, ?it/s]"
      ]
     },
     "metadata": {},
     "output_type": "display_data"
    },
    {
     "data": {
      "application/json": {
       "ascii": false,
       "bar_format": null,
       "colour": null,
       "elapsed": 0.018749237060546875,
       "initial": 0,
       "n": 0,
       "ncols": null,
       "nrows": 29,
       "postfix": null,
       "prefix": "Eval batches",
       "rate": null,
       "total": 197,
       "unit": "it",
       "unit_divisor": 1000,
       "unit_scale": false
      },
      "application/vnd.jupyter.widget-view+json": {
       "model_id": "",
       "version_major": 2,
       "version_minor": 0
      },
      "text/plain": [
       "Eval batches:   0%|          | 0/197 [00:00<?, ?it/s]"
      ]
     },
     "metadata": {},
     "output_type": "display_data"
    },
    {
     "name": "stdout",
     "output_type": "stream",
     "text": [
      "Epoch 12 - Train Loss: 1.172 - Eval Loss: 2.114 - Eval Accuracy: 0.464 - Time 2.4\n"
     ]
    },
    {
     "data": {
      "application/json": {
       "ascii": false,
       "bar_format": null,
       "colour": null,
       "elapsed": 0.027504682540893555,
       "initial": 0,
       "n": 0,
       "ncols": null,
       "nrows": 29,
       "postfix": null,
       "prefix": "Train batches",
       "rate": null,
       "total": 788,
       "unit": "it",
       "unit_divisor": 1000,
       "unit_scale": false
      },
      "application/vnd.jupyter.widget-view+json": {
       "model_id": "",
       "version_major": 2,
       "version_minor": 0
      },
      "text/plain": [
       "Train batches:   0%|          | 0/788 [00:00<?, ?it/s]"
      ]
     },
     "metadata": {},
     "output_type": "display_data"
    },
    {
     "data": {
      "application/json": {
       "ascii": false,
       "bar_format": null,
       "colour": null,
       "elapsed": 0.01708817481994629,
       "initial": 0,
       "n": 0,
       "ncols": null,
       "nrows": 29,
       "postfix": null,
       "prefix": "Eval batches",
       "rate": null,
       "total": 197,
       "unit": "it",
       "unit_divisor": 1000,
       "unit_scale": false
      },
      "application/vnd.jupyter.widget-view+json": {
       "model_id": "",
       "version_major": 2,
       "version_minor": 0
      },
      "text/plain": [
       "Eval batches:   0%|          | 0/197 [00:00<?, ?it/s]"
      ]
     },
     "metadata": {},
     "output_type": "display_data"
    },
    {
     "name": "stdout",
     "output_type": "stream",
     "text": [
      "Epoch 13 - Train Loss: 1.222 - Eval Loss: 1.849 - Eval Accuracy: 0.487 - Time 2.3\n"
     ]
    },
    {
     "data": {
      "application/json": {
       "ascii": false,
       "bar_format": null,
       "colour": null,
       "elapsed": 0.022391080856323242,
       "initial": 0,
       "n": 0,
       "ncols": null,
       "nrows": 29,
       "postfix": null,
       "prefix": "Train batches",
       "rate": null,
       "total": 788,
       "unit": "it",
       "unit_divisor": 1000,
       "unit_scale": false
      },
      "application/vnd.jupyter.widget-view+json": {
       "model_id": "",
       "version_major": 2,
       "version_minor": 0
      },
      "text/plain": [
       "Train batches:   0%|          | 0/788 [00:00<?, ?it/s]"
      ]
     },
     "metadata": {},
     "output_type": "display_data"
    },
    {
     "data": {
      "application/json": {
       "ascii": false,
       "bar_format": null,
       "colour": null,
       "elapsed": 0.021935224533081055,
       "initial": 0,
       "n": 0,
       "ncols": null,
       "nrows": 29,
       "postfix": null,
       "prefix": "Eval batches",
       "rate": null,
       "total": 197,
       "unit": "it",
       "unit_divisor": 1000,
       "unit_scale": false
      },
      "application/vnd.jupyter.widget-view+json": {
       "model_id": "",
       "version_major": 2,
       "version_minor": 0
      },
      "text/plain": [
       "Eval batches:   0%|          | 0/197 [00:00<?, ?it/s]"
      ]
     },
     "metadata": {},
     "output_type": "display_data"
    },
    {
     "name": "stdout",
     "output_type": "stream",
     "text": [
      "Epoch 14 - Train Loss: 1.208 - Eval Loss: 1.944 - Eval Accuracy: 0.449 - Time 2.1\n"
     ]
    },
    {
     "data": {
      "application/json": {
       "ascii": false,
       "bar_format": null,
       "colour": null,
       "elapsed": 0.028371810913085938,
       "initial": 0,
       "n": 0,
       "ncols": null,
       "nrows": 29,
       "postfix": null,
       "prefix": "Train batches",
       "rate": null,
       "total": 788,
       "unit": "it",
       "unit_divisor": 1000,
       "unit_scale": false
      },
      "application/vnd.jupyter.widget-view+json": {
       "model_id": "",
       "version_major": 2,
       "version_minor": 0
      },
      "text/plain": [
       "Train batches:   0%|          | 0/788 [00:00<?, ?it/s]"
      ]
     },
     "metadata": {},
     "output_type": "display_data"
    },
    {
     "data": {
      "application/json": {
       "ascii": false,
       "bar_format": null,
       "colour": null,
       "elapsed": 0.021049976348876953,
       "initial": 0,
       "n": 0,
       "ncols": null,
       "nrows": 29,
       "postfix": null,
       "prefix": "Eval batches",
       "rate": null,
       "total": 197,
       "unit": "it",
       "unit_divisor": 1000,
       "unit_scale": false
      },
      "application/vnd.jupyter.widget-view+json": {
       "model_id": "",
       "version_major": 2,
       "version_minor": 0
      },
      "text/plain": [
       "Eval batches:   0%|          | 0/197 [00:00<?, ?it/s]"
      ]
     },
     "metadata": {},
     "output_type": "display_data"
    },
    {
     "name": "stdout",
     "output_type": "stream",
     "text": [
      "Epoch 15 - Train Loss: 1.237 - Eval Loss: 1.881 - Eval Accuracy: 0.451 - Time 2.4\n"
     ]
    }
   ],
   "source": [
    "# Train the model\n",
    "torch.manual_seed(123)\n",
    "model = SimpleRNNWithState(vocab_size, 64)\n",
    "train_state_network(model,\n",
    "                    train_loader,\n",
    "                    val_loader,\n",
    "                    n_epochs=15,\n",
    "                    learning_rate=3e-3)"
   ]
  },
  {
   "cell_type": "code",
   "execution_count": 28,
   "id": "eef65d75-d669-4bb7-990c-949b58a0643a",
   "metadata": {},
   "outputs": [
    {
     "data": {
      "application/json": {
       "ascii": false,
       "bar_format": null,
       "colour": null,
       "elapsed": 0,
       "initial": 0,
       "n": 0,
       "ncols": null,
       "nrows": 29,
       "postfix": null,
       "prefix": "Epochs",
       "rate": null,
       "total": 15,
       "unit": "it",
       "unit_divisor": 1000,
       "unit_scale": false
      },
      "application/vnd.jupyter.widget-view+json": {
       "model_id": "11f7b8ad89f247b5a3fec41862686e15",
       "version_major": 2,
       "version_minor": 0
      },
      "text/plain": [
       "Epochs:   0%|          | 0/15 [00:00<?, ?it/s]"
      ]
     },
     "metadata": {},
     "output_type": "display_data"
    },
    {
     "data": {
      "application/json": {
       "ascii": false,
       "bar_format": null,
       "colour": null,
       "elapsed": 0.009392738342285156,
       "initial": 0,
       "n": 0,
       "ncols": null,
       "nrows": 29,
       "postfix": null,
       "prefix": "Train batches",
       "rate": null,
       "total": 788,
       "unit": "it",
       "unit_divisor": 1000,
       "unit_scale": false
      },
      "application/vnd.jupyter.widget-view+json": {
       "model_id": "",
       "version_major": 2,
       "version_minor": 0
      },
      "text/plain": [
       "Train batches:   0%|          | 0/788 [00:00<?, ?it/s]"
      ]
     },
     "metadata": {},
     "output_type": "display_data"
    },
    {
     "data": {
      "application/json": {
       "ascii": false,
       "bar_format": null,
       "colour": null,
       "elapsed": 0.014898538589477539,
       "initial": 0,
       "n": 0,
       "ncols": null,
       "nrows": 29,
       "postfix": null,
       "prefix": "Eval batches",
       "rate": null,
       "total": 196,
       "unit": "it",
       "unit_divisor": 1000,
       "unit_scale": false
      },
      "application/vnd.jupyter.widget-view+json": {
       "model_id": "",
       "version_major": 2,
       "version_minor": 0
      },
      "text/plain": [
       "Eval batches:   0%|          | 0/196 [00:00<?, ?it/s]"
      ]
     },
     "metadata": {},
     "output_type": "display_data"
    },
    {
     "name": "stdout",
     "output_type": "stream",
     "text": [
      "Epoch 1 - Train Loss: 1.143 - Eval Loss: 2.343 - Eval Accuracy: 0.474 - Time 6.3\n"
     ]
    },
    {
     "data": {
      "application/json": {
       "ascii": false,
       "bar_format": null,
       "colour": null,
       "elapsed": 0.014412164688110352,
       "initial": 0,
       "n": 0,
       "ncols": null,
       "nrows": 29,
       "postfix": null,
       "prefix": "Train batches",
       "rate": null,
       "total": 788,
       "unit": "it",
       "unit_divisor": 1000,
       "unit_scale": false
      },
      "application/vnd.jupyter.widget-view+json": {
       "model_id": "",
       "version_major": 2,
       "version_minor": 0
      },
      "text/plain": [
       "Train batches:   0%|          | 0/788 [00:00<?, ?it/s]"
      ]
     },
     "metadata": {},
     "output_type": "display_data"
    },
    {
     "data": {
      "application/json": {
       "ascii": false,
       "bar_format": null,
       "colour": null,
       "elapsed": 0.02487969398498535,
       "initial": 0,
       "n": 0,
       "ncols": null,
       "nrows": 29,
       "postfix": null,
       "prefix": "Eval batches",
       "rate": null,
       "total": 196,
       "unit": "it",
       "unit_divisor": 1000,
       "unit_scale": false
      },
      "application/vnd.jupyter.widget-view+json": {
       "model_id": "",
       "version_major": 2,
       "version_minor": 0
      },
      "text/plain": [
       "Eval batches:   0%|          | 0/196 [00:00<?, ?it/s]"
      ]
     },
     "metadata": {},
     "output_type": "display_data"
    },
    {
     "name": "stdout",
     "output_type": "stream",
     "text": [
      "Epoch 2 - Train Loss: 0.803 - Eval Loss: 2.556 - Eval Accuracy: 0.526 - Time 7.0\n"
     ]
    },
    {
     "data": {
      "application/json": {
       "ascii": false,
       "bar_format": null,
       "colour": null,
       "elapsed": 0.017028331756591797,
       "initial": 0,
       "n": 0,
       "ncols": null,
       "nrows": 29,
       "postfix": null,
       "prefix": "Train batches",
       "rate": null,
       "total": 788,
       "unit": "it",
       "unit_divisor": 1000,
       "unit_scale": false
      },
      "application/vnd.jupyter.widget-view+json": {
       "model_id": "",
       "version_major": 2,
       "version_minor": 0
      },
      "text/plain": [
       "Train batches:   0%|          | 0/788 [00:00<?, ?it/s]"
      ]
     },
     "metadata": {},
     "output_type": "display_data"
    },
    {
     "data": {
      "application/json": {
       "ascii": false,
       "bar_format": null,
       "colour": null,
       "elapsed": 0.02299785614013672,
       "initial": 0,
       "n": 0,
       "ncols": null,
       "nrows": 29,
       "postfix": null,
       "prefix": "Eval batches",
       "rate": null,
       "total": 196,
       "unit": "it",
       "unit_divisor": 1000,
       "unit_scale": false
      },
      "application/vnd.jupyter.widget-view+json": {
       "model_id": "",
       "version_major": 2,
       "version_minor": 0
      },
      "text/plain": [
       "Eval batches:   0%|          | 0/196 [00:00<?, ?it/s]"
      ]
     },
     "metadata": {},
     "output_type": "display_data"
    },
    {
     "name": "stdout",
     "output_type": "stream",
     "text": [
      "Epoch 3 - Train Loss: 0.624 - Eval Loss: 2.912 - Eval Accuracy: 0.478 - Time 6.4\n"
     ]
    },
    {
     "data": {
      "application/json": {
       "ascii": false,
       "bar_format": null,
       "colour": null,
       "elapsed": 0.016112327575683594,
       "initial": 0,
       "n": 0,
       "ncols": null,
       "nrows": 29,
       "postfix": null,
       "prefix": "Train batches",
       "rate": null,
       "total": 788,
       "unit": "it",
       "unit_divisor": 1000,
       "unit_scale": false
      },
      "application/vnd.jupyter.widget-view+json": {
       "model_id": "",
       "version_major": 2,
       "version_minor": 0
      },
      "text/plain": [
       "Train batches:   0%|          | 0/788 [00:00<?, ?it/s]"
      ]
     },
     "metadata": {},
     "output_type": "display_data"
    },
    {
     "data": {
      "application/json": {
       "ascii": false,
       "bar_format": null,
       "colour": null,
       "elapsed": 0.01846909523010254,
       "initial": 0,
       "n": 0,
       "ncols": null,
       "nrows": 29,
       "postfix": null,
       "prefix": "Eval batches",
       "rate": null,
       "total": 196,
       "unit": "it",
       "unit_divisor": 1000,
       "unit_scale": false
      },
      "application/vnd.jupyter.widget-view+json": {
       "model_id": "",
       "version_major": 2,
       "version_minor": 0
      },
      "text/plain": [
       "Eval batches:   0%|          | 0/196 [00:00<?, ?it/s]"
      ]
     },
     "metadata": {},
     "output_type": "display_data"
    },
    {
     "name": "stdout",
     "output_type": "stream",
     "text": [
      "Epoch 4 - Train Loss: 0.508 - Eval Loss: 2.918 - Eval Accuracy: 0.530 - Time 6.3\n"
     ]
    },
    {
     "data": {
      "application/json": {
       "ascii": false,
       "bar_format": null,
       "colour": null,
       "elapsed": 0.014978170394897461,
       "initial": 0,
       "n": 0,
       "ncols": null,
       "nrows": 29,
       "postfix": null,
       "prefix": "Train batches",
       "rate": null,
       "total": 788,
       "unit": "it",
       "unit_divisor": 1000,
       "unit_scale": false
      },
      "application/vnd.jupyter.widget-view+json": {
       "model_id": "",
       "version_major": 2,
       "version_minor": 0
      },
      "text/plain": [
       "Train batches:   0%|          | 0/788 [00:00<?, ?it/s]"
      ]
     },
     "metadata": {},
     "output_type": "display_data"
    },
    {
     "data": {
      "application/json": {
       "ascii": false,
       "bar_format": null,
       "colour": null,
       "elapsed": 0.013772010803222656,
       "initial": 0,
       "n": 0,
       "ncols": null,
       "nrows": 29,
       "postfix": null,
       "prefix": "Eval batches",
       "rate": null,
       "total": 196,
       "unit": "it",
       "unit_divisor": 1000,
       "unit_scale": false
      },
      "application/vnd.jupyter.widget-view+json": {
       "model_id": "",
       "version_major": 2,
       "version_minor": 0
      },
      "text/plain": [
       "Eval batches:   0%|          | 0/196 [00:00<?, ?it/s]"
      ]
     },
     "metadata": {},
     "output_type": "display_data"
    },
    {
     "name": "stdout",
     "output_type": "stream",
     "text": [
      "Epoch 5 - Train Loss: 0.441 - Eval Loss: 2.973 - Eval Accuracy: 0.593 - Time 9.1\n"
     ]
    },
    {
     "data": {
      "application/json": {
       "ascii": false,
       "bar_format": null,
       "colour": null,
       "elapsed": 0.02146625518798828,
       "initial": 0,
       "n": 0,
       "ncols": null,
       "nrows": 29,
       "postfix": null,
       "prefix": "Train batches",
       "rate": null,
       "total": 788,
       "unit": "it",
       "unit_divisor": 1000,
       "unit_scale": false
      },
      "application/vnd.jupyter.widget-view+json": {
       "model_id": "",
       "version_major": 2,
       "version_minor": 0
      },
      "text/plain": [
       "Train batches:   0%|          | 0/788 [00:00<?, ?it/s]"
      ]
     },
     "metadata": {},
     "output_type": "display_data"
    },
    {
     "data": {
      "application/json": {
       "ascii": false,
       "bar_format": null,
       "colour": null,
       "elapsed": 0.021087646484375,
       "initial": 0,
       "n": 0,
       "ncols": null,
       "nrows": 29,
       "postfix": null,
       "prefix": "Eval batches",
       "rate": null,
       "total": 196,
       "unit": "it",
       "unit_divisor": 1000,
       "unit_scale": false
      },
      "application/vnd.jupyter.widget-view+json": {
       "model_id": "",
       "version_major": 2,
       "version_minor": 0
      },
      "text/plain": [
       "Eval batches:   0%|          | 0/196 [00:00<?, ?it/s]"
      ]
     },
     "metadata": {},
     "output_type": "display_data"
    },
    {
     "name": "stdout",
     "output_type": "stream",
     "text": [
      "Epoch 6 - Train Loss: 0.377 - Eval Loss: 2.917 - Eval Accuracy: 0.636 - Time 8.4\n"
     ]
    },
    {
     "data": {
      "application/json": {
       "ascii": false,
       "bar_format": null,
       "colour": null,
       "elapsed": 0.020872831344604492,
       "initial": 0,
       "n": 0,
       "ncols": null,
       "nrows": 29,
       "postfix": null,
       "prefix": "Train batches",
       "rate": null,
       "total": 788,
       "unit": "it",
       "unit_divisor": 1000,
       "unit_scale": false
      },
      "application/vnd.jupyter.widget-view+json": {
       "model_id": "",
       "version_major": 2,
       "version_minor": 0
      },
      "text/plain": [
       "Train batches:   0%|          | 0/788 [00:00<?, ?it/s]"
      ]
     },
     "metadata": {},
     "output_type": "display_data"
    },
    {
     "data": {
      "application/json": {
       "ascii": false,
       "bar_format": null,
       "colour": null,
       "elapsed": 0.023608922958374023,
       "initial": 0,
       "n": 0,
       "ncols": null,
       "nrows": 29,
       "postfix": null,
       "prefix": "Eval batches",
       "rate": null,
       "total": 196,
       "unit": "it",
       "unit_divisor": 1000,
       "unit_scale": false
      },
      "application/vnd.jupyter.widget-view+json": {
       "model_id": "",
       "version_major": 2,
       "version_minor": 0
      },
      "text/plain": [
       "Eval batches:   0%|          | 0/196 [00:00<?, ?it/s]"
      ]
     },
     "metadata": {},
     "output_type": "display_data"
    },
    {
     "name": "stdout",
     "output_type": "stream",
     "text": [
      "Epoch 7 - Train Loss: 0.341 - Eval Loss: 3.215 - Eval Accuracy: 0.598 - Time 8.5\n"
     ]
    },
    {
     "data": {
      "application/json": {
       "ascii": false,
       "bar_format": null,
       "colour": null,
       "elapsed": 0.022339582443237305,
       "initial": 0,
       "n": 0,
       "ncols": null,
       "nrows": 29,
       "postfix": null,
       "prefix": "Train batches",
       "rate": null,
       "total": 788,
       "unit": "it",
       "unit_divisor": 1000,
       "unit_scale": false
      },
      "application/vnd.jupyter.widget-view+json": {
       "model_id": "",
       "version_major": 2,
       "version_minor": 0
      },
      "text/plain": [
       "Train batches:   0%|          | 0/788 [00:00<?, ?it/s]"
      ]
     },
     "metadata": {},
     "output_type": "display_data"
    },
    {
     "data": {
      "application/json": {
       "ascii": false,
       "bar_format": null,
       "colour": null,
       "elapsed": 0.019616127014160156,
       "initial": 0,
       "n": 0,
       "ncols": null,
       "nrows": 29,
       "postfix": null,
       "prefix": "Eval batches",
       "rate": null,
       "total": 196,
       "unit": "it",
       "unit_divisor": 1000,
       "unit_scale": false
      },
      "application/vnd.jupyter.widget-view+json": {
       "model_id": "",
       "version_major": 2,
       "version_minor": 0
      },
      "text/plain": [
       "Eval batches:   0%|          | 0/196 [00:00<?, ?it/s]"
      ]
     },
     "metadata": {},
     "output_type": "display_data"
    },
    {
     "name": "stdout",
     "output_type": "stream",
     "text": [
      "Epoch 8 - Train Loss: 0.304 - Eval Loss: 3.566 - Eval Accuracy: 0.604 - Time 7.3\n"
     ]
    },
    {
     "data": {
      "application/json": {
       "ascii": false,
       "bar_format": null,
       "colour": null,
       "elapsed": 0.021329641342163086,
       "initial": 0,
       "n": 0,
       "ncols": null,
       "nrows": 29,
       "postfix": null,
       "prefix": "Train batches",
       "rate": null,
       "total": 788,
       "unit": "it",
       "unit_divisor": 1000,
       "unit_scale": false
      },
      "application/vnd.jupyter.widget-view+json": {
       "model_id": "",
       "version_major": 2,
       "version_minor": 0
      },
      "text/plain": [
       "Train batches:   0%|          | 0/788 [00:00<?, ?it/s]"
      ]
     },
     "metadata": {},
     "output_type": "display_data"
    },
    {
     "data": {
      "application/json": {
       "ascii": false,
       "bar_format": null,
       "colour": null,
       "elapsed": 0.015954256057739258,
       "initial": 0,
       "n": 0,
       "ncols": null,
       "nrows": 29,
       "postfix": null,
       "prefix": "Eval batches",
       "rate": null,
       "total": 196,
       "unit": "it",
       "unit_divisor": 1000,
       "unit_scale": false
      },
      "application/vnd.jupyter.widget-view+json": {
       "model_id": "",
       "version_major": 2,
       "version_minor": 0
      },
      "text/plain": [
       "Eval batches:   0%|          | 0/196 [00:00<?, ?it/s]"
      ]
     },
     "metadata": {},
     "output_type": "display_data"
    },
    {
     "name": "stdout",
     "output_type": "stream",
     "text": [
      "Epoch 9 - Train Loss: 0.276 - Eval Loss: 3.859 - Eval Accuracy: 0.602 - Time 7.3\n"
     ]
    },
    {
     "data": {
      "application/json": {
       "ascii": false,
       "bar_format": null,
       "colour": null,
       "elapsed": 0.012748479843139648,
       "initial": 0,
       "n": 0,
       "ncols": null,
       "nrows": 29,
       "postfix": null,
       "prefix": "Train batches",
       "rate": null,
       "total": 788,
       "unit": "it",
       "unit_divisor": 1000,
       "unit_scale": false
      },
      "application/vnd.jupyter.widget-view+json": {
       "model_id": "",
       "version_major": 2,
       "version_minor": 0
      },
      "text/plain": [
       "Train batches:   0%|          | 0/788 [00:00<?, ?it/s]"
      ]
     },
     "metadata": {},
     "output_type": "display_data"
    },
    {
     "data": {
      "application/json": {
       "ascii": false,
       "bar_format": null,
       "colour": null,
       "elapsed": 0.012282848358154297,
       "initial": 0,
       "n": 0,
       "ncols": null,
       "nrows": 29,
       "postfix": null,
       "prefix": "Eval batches",
       "rate": null,
       "total": 196,
       "unit": "it",
       "unit_divisor": 1000,
       "unit_scale": false
      },
      "application/vnd.jupyter.widget-view+json": {
       "model_id": "",
       "version_major": 2,
       "version_minor": 0
      },
      "text/plain": [
       "Eval batches:   0%|          | 0/196 [00:00<?, ?it/s]"
      ]
     },
     "metadata": {},
     "output_type": "display_data"
    },
    {
     "name": "stdout",
     "output_type": "stream",
     "text": [
      "Epoch 10 - Train Loss: 0.262 - Eval Loss: 3.511 - Eval Accuracy: 0.653 - Time 8.0\n"
     ]
    },
    {
     "data": {
      "application/json": {
       "ascii": false,
       "bar_format": null,
       "colour": null,
       "elapsed": 0.018098831176757812,
       "initial": 0,
       "n": 0,
       "ncols": null,
       "nrows": 29,
       "postfix": null,
       "prefix": "Train batches",
       "rate": null,
       "total": 788,
       "unit": "it",
       "unit_divisor": 1000,
       "unit_scale": false
      },
      "application/vnd.jupyter.widget-view+json": {
       "model_id": "",
       "version_major": 2,
       "version_minor": 0
      },
      "text/plain": [
       "Train batches:   0%|          | 0/788 [00:00<?, ?it/s]"
      ]
     },
     "metadata": {},
     "output_type": "display_data"
    },
    {
     "data": {
      "application/json": {
       "ascii": false,
       "bar_format": null,
       "colour": null,
       "elapsed": 0.019028425216674805,
       "initial": 0,
       "n": 0,
       "ncols": null,
       "nrows": 29,
       "postfix": null,
       "prefix": "Eval batches",
       "rate": null,
       "total": 196,
       "unit": "it",
       "unit_divisor": 1000,
       "unit_scale": false
      },
      "application/vnd.jupyter.widget-view+json": {
       "model_id": "",
       "version_major": 2,
       "version_minor": 0
      },
      "text/plain": [
       "Eval batches:   0%|          | 0/196 [00:00<?, ?it/s]"
      ]
     },
     "metadata": {},
     "output_type": "display_data"
    },
    {
     "name": "stdout",
     "output_type": "stream",
     "text": [
      "Epoch 11 - Train Loss: 0.245 - Eval Loss: 3.834 - Eval Accuracy: 0.572 - Time 11.5\n"
     ]
    },
    {
     "data": {
      "application/json": {
       "ascii": false,
       "bar_format": null,
       "colour": null,
       "elapsed": 0.016930341720581055,
       "initial": 0,
       "n": 0,
       "ncols": null,
       "nrows": 29,
       "postfix": null,
       "prefix": "Train batches",
       "rate": null,
       "total": 788,
       "unit": "it",
       "unit_divisor": 1000,
       "unit_scale": false
      },
      "application/vnd.jupyter.widget-view+json": {
       "model_id": "",
       "version_major": 2,
       "version_minor": 0
      },
      "text/plain": [
       "Train batches:   0%|          | 0/788 [00:00<?, ?it/s]"
      ]
     },
     "metadata": {},
     "output_type": "display_data"
    },
    {
     "data": {
      "application/json": {
       "ascii": false,
       "bar_format": null,
       "colour": null,
       "elapsed": 0.021564722061157227,
       "initial": 0,
       "n": 0,
       "ncols": null,
       "nrows": 29,
       "postfix": null,
       "prefix": "Eval batches",
       "rate": null,
       "total": 196,
       "unit": "it",
       "unit_divisor": 1000,
       "unit_scale": false
      },
      "application/vnd.jupyter.widget-view+json": {
       "model_id": "",
       "version_major": 2,
       "version_minor": 0
      },
      "text/plain": [
       "Eval batches:   0%|          | 0/196 [00:00<?, ?it/s]"
      ]
     },
     "metadata": {},
     "output_type": "display_data"
    },
    {
     "name": "stdout",
     "output_type": "stream",
     "text": [
      "Epoch 12 - Train Loss: 0.235 - Eval Loss: 3.724 - Eval Accuracy: 0.623 - Time 7.9\n"
     ]
    },
    {
     "data": {
      "application/json": {
       "ascii": false,
       "bar_format": null,
       "colour": null,
       "elapsed": 0.02170276641845703,
       "initial": 0,
       "n": 0,
       "ncols": null,
       "nrows": 29,
       "postfix": null,
       "prefix": "Train batches",
       "rate": null,
       "total": 788,
       "unit": "it",
       "unit_divisor": 1000,
       "unit_scale": false
      },
      "application/vnd.jupyter.widget-view+json": {
       "model_id": "",
       "version_major": 2,
       "version_minor": 0
      },
      "text/plain": [
       "Train batches:   0%|          | 0/788 [00:00<?, ?it/s]"
      ]
     },
     "metadata": {},
     "output_type": "display_data"
    },
    {
     "data": {
      "application/json": {
       "ascii": false,
       "bar_format": null,
       "colour": null,
       "elapsed": 0.02142620086669922,
       "initial": 0,
       "n": 0,
       "ncols": null,
       "nrows": 29,
       "postfix": null,
       "prefix": "Eval batches",
       "rate": null,
       "total": 196,
       "unit": "it",
       "unit_divisor": 1000,
       "unit_scale": false
      },
      "application/vnd.jupyter.widget-view+json": {
       "model_id": "",
       "version_major": 2,
       "version_minor": 0
      },
      "text/plain": [
       "Eval batches:   0%|          | 0/196 [00:00<?, ?it/s]"
      ]
     },
     "metadata": {},
     "output_type": "display_data"
    },
    {
     "name": "stdout",
     "output_type": "stream",
     "text": [
      "Epoch 13 - Train Loss: 0.233 - Eval Loss: 3.438 - Eval Accuracy: 0.635 - Time 6.9\n"
     ]
    },
    {
     "data": {
      "application/json": {
       "ascii": false,
       "bar_format": null,
       "colour": null,
       "elapsed": 0.013747930526733398,
       "initial": 0,
       "n": 0,
       "ncols": null,
       "nrows": 29,
       "postfix": null,
       "prefix": "Train batches",
       "rate": null,
       "total": 788,
       "unit": "it",
       "unit_divisor": 1000,
       "unit_scale": false
      },
      "application/vnd.jupyter.widget-view+json": {
       "model_id": "",
       "version_major": 2,
       "version_minor": 0
      },
      "text/plain": [
       "Train batches:   0%|          | 0/788 [00:00<?, ?it/s]"
      ]
     },
     "metadata": {},
     "output_type": "display_data"
    },
    {
     "data": {
      "application/json": {
       "ascii": false,
       "bar_format": null,
       "colour": null,
       "elapsed": 0.022581815719604492,
       "initial": 0,
       "n": 0,
       "ncols": null,
       "nrows": 29,
       "postfix": null,
       "prefix": "Eval batches",
       "rate": null,
       "total": 196,
       "unit": "it",
       "unit_divisor": 1000,
       "unit_scale": false
      },
      "application/vnd.jupyter.widget-view+json": {
       "model_id": "",
       "version_major": 2,
       "version_minor": 0
      },
      "text/plain": [
       "Eval batches:   0%|          | 0/196 [00:00<?, ?it/s]"
      ]
     },
     "metadata": {},
     "output_type": "display_data"
    },
    {
     "name": "stdout",
     "output_type": "stream",
     "text": [
      "Epoch 14 - Train Loss: 0.214 - Eval Loss: 3.922 - Eval Accuracy: 0.550 - Time 8.8\n"
     ]
    },
    {
     "data": {
      "application/json": {
       "ascii": false,
       "bar_format": null,
       "colour": null,
       "elapsed": 0.020632028579711914,
       "initial": 0,
       "n": 0,
       "ncols": null,
       "nrows": 29,
       "postfix": null,
       "prefix": "Train batches",
       "rate": null,
       "total": 788,
       "unit": "it",
       "unit_divisor": 1000,
       "unit_scale": false
      },
      "application/vnd.jupyter.widget-view+json": {
       "model_id": "",
       "version_major": 2,
       "version_minor": 0
      },
      "text/plain": [
       "Train batches:   0%|          | 0/788 [00:00<?, ?it/s]"
      ]
     },
     "metadata": {},
     "output_type": "display_data"
    },
    {
     "data": {
      "application/json": {
       "ascii": false,
       "bar_format": null,
       "colour": null,
       "elapsed": 0.02053046226501465,
       "initial": 0,
       "n": 0,
       "ncols": null,
       "nrows": 29,
       "postfix": null,
       "prefix": "Eval batches",
       "rate": null,
       "total": 196,
       "unit": "it",
       "unit_divisor": 1000,
       "unit_scale": false
      },
      "application/vnd.jupyter.widget-view+json": {
       "model_id": "",
       "version_major": 2,
       "version_minor": 0
      },
      "text/plain": [
       "Eval batches:   0%|          | 0/196 [00:00<?, ?it/s]"
      ]
     },
     "metadata": {},
     "output_type": "display_data"
    },
    {
     "name": "stdout",
     "output_type": "stream",
     "text": [
      "Epoch 15 - Train Loss: 0.216 - Eval Loss: 3.258 - Eval Accuracy: 0.611 - Time 7.0\n"
     ]
    }
   ],
   "source": [
    "# Let's add even more context - Trying 16 tokens\n",
    "\n",
    "# Create the new datasets\n",
    "train_set = create_dataset(train_tokens, seq_length=16)\n",
    "val_set = create_dataset(val_tokens, seq_length=16)\n",
    "\n",
    "# Create dataloaders\n",
    "train_loader = DataLoader(train_set, batch_size=batch_size, shuffle=False)\n",
    "val_loader = DataLoader(val_set, batch_size=batch_size, shuffle=False)\n",
    "\n",
    "# Train the model\n",
    "torch.manual_seed(123)\n",
    "model = SimpleRNNWithState(vocab_size, 64)\n",
    "train_state_network(model,\n",
    "                    train_loader,\n",
    "                    val_loader,\n",
    "                    n_epochs=15,\n",
    "                    learning_rate=3e-3)"
   ]
  },
  {
   "cell_type": "markdown",
   "id": "b52e43b3-86b9-468f-afc9-efe9002f09aa",
   "metadata": {},
   "source": [
    "## Multilayer RNN"
   ]
  },
  {
   "cell_type": "code",
   "execution_count": 29,
   "id": "99f5eacd-e57b-4f82-9d71-a3f810ba8d2a",
   "metadata": {},
   "outputs": [
    {
     "data": {
      "application/json": {
       "ascii": false,
       "bar_format": null,
       "colour": null,
       "elapsed": 0.01989293098449707,
       "initial": 0,
       "n": 0,
       "ncols": null,
       "nrows": 29,
       "postfix": null,
       "prefix": "Epochs",
       "rate": null,
       "total": 15,
       "unit": "it",
       "unit_divisor": 1000,
       "unit_scale": false
      },
      "application/vnd.jupyter.widget-view+json": {
       "model_id": "5597586b99e74be9959a6cd8bdab025c",
       "version_major": 2,
       "version_minor": 0
      },
      "text/plain": [
       "Epochs:   0%|          | 0/15 [00:00<?, ?it/s]"
      ]
     },
     "metadata": {},
     "output_type": "display_data"
    },
    {
     "data": {
      "application/json": {
       "ascii": false,
       "bar_format": null,
       "colour": null,
       "elapsed": 0.013869285583496094,
       "initial": 0,
       "n": 0,
       "ncols": null,
       "nrows": 29,
       "postfix": null,
       "prefix": "Train batches",
       "rate": null,
       "total": 788,
       "unit": "it",
       "unit_divisor": 1000,
       "unit_scale": false
      },
      "application/vnd.jupyter.widget-view+json": {
       "model_id": "",
       "version_major": 2,
       "version_minor": 0
      },
      "text/plain": [
       "Train batches:   0%|          | 0/788 [00:00<?, ?it/s]"
      ]
     },
     "metadata": {},
     "output_type": "display_data"
    },
    {
     "data": {
      "application/json": {
       "ascii": false,
       "bar_format": null,
       "colour": null,
       "elapsed": 0.02238178253173828,
       "initial": 0,
       "n": 0,
       "ncols": null,
       "nrows": 29,
       "postfix": null,
       "prefix": "Eval batches",
       "rate": null,
       "total": 196,
       "unit": "it",
       "unit_divisor": 1000,
       "unit_scale": false
      },
      "application/vnd.jupyter.widget-view+json": {
       "model_id": "",
       "version_major": 2,
       "version_minor": 0
      },
      "text/plain": [
       "Eval batches:   0%|          | 0/196 [00:00<?, ?it/s]"
      ]
     },
     "metadata": {},
     "output_type": "display_data"
    },
    {
     "name": "stdout",
     "output_type": "stream",
     "text": [
      "Epoch 1 - Train Loss: 1.110 - Eval Loss: 2.408 - Eval Accuracy: 0.389 - Time 8.0\n"
     ]
    },
    {
     "data": {
      "application/json": {
       "ascii": false,
       "bar_format": null,
       "colour": null,
       "elapsed": 0.04714202880859375,
       "initial": 0,
       "n": 0,
       "ncols": null,
       "nrows": 29,
       "postfix": null,
       "prefix": "Train batches",
       "rate": null,
       "total": 788,
       "unit": "it",
       "unit_divisor": 1000,
       "unit_scale": false
      },
      "application/vnd.jupyter.widget-view+json": {
       "model_id": "",
       "version_major": 2,
       "version_minor": 0
      },
      "text/plain": [
       "Train batches:   0%|          | 0/788 [00:00<?, ?it/s]"
      ]
     },
     "metadata": {},
     "output_type": "display_data"
    },
    {
     "data": {
      "application/json": {
       "ascii": false,
       "bar_format": null,
       "colour": null,
       "elapsed": 0.02020263671875,
       "initial": 0,
       "n": 0,
       "ncols": null,
       "nrows": 29,
       "postfix": null,
       "prefix": "Eval batches",
       "rate": null,
       "total": 196,
       "unit": "it",
       "unit_divisor": 1000,
       "unit_scale": false
      },
      "application/vnd.jupyter.widget-view+json": {
       "model_id": "",
       "version_major": 2,
       "version_minor": 0
      },
      "text/plain": [
       "Eval batches:   0%|          | 0/196 [00:00<?, ?it/s]"
      ]
     },
     "metadata": {},
     "output_type": "display_data"
    },
    {
     "name": "stdout",
     "output_type": "stream",
     "text": [
      "Epoch 2 - Train Loss: 0.887 - Eval Loss: 2.605 - Eval Accuracy: 0.368 - Time 9.1\n"
     ]
    },
    {
     "data": {
      "application/json": {
       "ascii": false,
       "bar_format": null,
       "colour": null,
       "elapsed": 0.02110600471496582,
       "initial": 0,
       "n": 0,
       "ncols": null,
       "nrows": 29,
       "postfix": null,
       "prefix": "Train batches",
       "rate": null,
       "total": 788,
       "unit": "it",
       "unit_divisor": 1000,
       "unit_scale": false
      },
      "application/vnd.jupyter.widget-view+json": {
       "model_id": "",
       "version_major": 2,
       "version_minor": 0
      },
      "text/plain": [
       "Train batches:   0%|          | 0/788 [00:00<?, ?it/s]"
      ]
     },
     "metadata": {},
     "output_type": "display_data"
    },
    {
     "data": {
      "application/json": {
       "ascii": false,
       "bar_format": null,
       "colour": null,
       "elapsed": 0.02439713478088379,
       "initial": 0,
       "n": 0,
       "ncols": null,
       "nrows": 29,
       "postfix": null,
       "prefix": "Eval batches",
       "rate": null,
       "total": 196,
       "unit": "it",
       "unit_divisor": 1000,
       "unit_scale": false
      },
      "application/vnd.jupyter.widget-view+json": {
       "model_id": "",
       "version_major": 2,
       "version_minor": 0
      },
      "text/plain": [
       "Eval batches:   0%|          | 0/196 [00:00<?, ?it/s]"
      ]
     },
     "metadata": {},
     "output_type": "display_data"
    },
    {
     "name": "stdout",
     "output_type": "stream",
     "text": [
      "Epoch 3 - Train Loss: 0.840 - Eval Loss: 2.610 - Eval Accuracy: 0.434 - Time 11.7\n"
     ]
    },
    {
     "data": {
      "application/json": {
       "ascii": false,
       "bar_format": null,
       "colour": null,
       "elapsed": 0.03695940971374512,
       "initial": 0,
       "n": 0,
       "ncols": null,
       "nrows": 29,
       "postfix": null,
       "prefix": "Train batches",
       "rate": null,
       "total": 788,
       "unit": "it",
       "unit_divisor": 1000,
       "unit_scale": false
      },
      "application/vnd.jupyter.widget-view+json": {
       "model_id": "",
       "version_major": 2,
       "version_minor": 0
      },
      "text/plain": [
       "Train batches:   0%|          | 0/788 [00:00<?, ?it/s]"
      ]
     },
     "metadata": {},
     "output_type": "display_data"
    },
    {
     "data": {
      "application/json": {
       "ascii": false,
       "bar_format": null,
       "colour": null,
       "elapsed": 0.02043747901916504,
       "initial": 0,
       "n": 0,
       "ncols": null,
       "nrows": 29,
       "postfix": null,
       "prefix": "Eval batches",
       "rate": null,
       "total": 196,
       "unit": "it",
       "unit_divisor": 1000,
       "unit_scale": false
      },
      "application/vnd.jupyter.widget-view+json": {
       "model_id": "",
       "version_major": 2,
       "version_minor": 0
      },
      "text/plain": [
       "Eval batches:   0%|          | 0/196 [00:00<?, ?it/s]"
      ]
     },
     "metadata": {},
     "output_type": "display_data"
    },
    {
     "name": "stdout",
     "output_type": "stream",
     "text": [
      "Epoch 4 - Train Loss: 0.822 - Eval Loss: 2.620 - Eval Accuracy: 0.467 - Time 10.6\n"
     ]
    },
    {
     "data": {
      "application/json": {
       "ascii": false,
       "bar_format": null,
       "colour": null,
       "elapsed": 0.023646831512451172,
       "initial": 0,
       "n": 0,
       "ncols": null,
       "nrows": 29,
       "postfix": null,
       "prefix": "Train batches",
       "rate": null,
       "total": 788,
       "unit": "it",
       "unit_divisor": 1000,
       "unit_scale": false
      },
      "application/vnd.jupyter.widget-view+json": {
       "model_id": "",
       "version_major": 2,
       "version_minor": 0
      },
      "text/plain": [
       "Train batches:   0%|          | 0/788 [00:00<?, ?it/s]"
      ]
     },
     "metadata": {},
     "output_type": "display_data"
    },
    {
     "data": {
      "application/json": {
       "ascii": false,
       "bar_format": null,
       "colour": null,
       "elapsed": 0.025587081909179688,
       "initial": 0,
       "n": 0,
       "ncols": null,
       "nrows": 29,
       "postfix": null,
       "prefix": "Eval batches",
       "rate": null,
       "total": 196,
       "unit": "it",
       "unit_divisor": 1000,
       "unit_scale": false
      },
      "application/vnd.jupyter.widget-view+json": {
       "model_id": "",
       "version_major": 2,
       "version_minor": 0
      },
      "text/plain": [
       "Eval batches:   0%|          | 0/196 [00:00<?, ?it/s]"
      ]
     },
     "metadata": {},
     "output_type": "display_data"
    },
    {
     "name": "stdout",
     "output_type": "stream",
     "text": [
      "Epoch 5 - Train Loss: 0.829 - Eval Loss: 2.852 - Eval Accuracy: 0.416 - Time 8.7\n"
     ]
    },
    {
     "data": {
      "application/json": {
       "ascii": false,
       "bar_format": null,
       "colour": null,
       "elapsed": 0.020808696746826172,
       "initial": 0,
       "n": 0,
       "ncols": null,
       "nrows": 29,
       "postfix": null,
       "prefix": "Train batches",
       "rate": null,
       "total": 788,
       "unit": "it",
       "unit_divisor": 1000,
       "unit_scale": false
      },
      "application/vnd.jupyter.widget-view+json": {
       "model_id": "",
       "version_major": 2,
       "version_minor": 0
      },
      "text/plain": [
       "Train batches:   0%|          | 0/788 [00:00<?, ?it/s]"
      ]
     },
     "metadata": {},
     "output_type": "display_data"
    },
    {
     "data": {
      "application/json": {
       "ascii": false,
       "bar_format": null,
       "colour": null,
       "elapsed": 0.018843889236450195,
       "initial": 0,
       "n": 0,
       "ncols": null,
       "nrows": 29,
       "postfix": null,
       "prefix": "Eval batches",
       "rate": null,
       "total": 196,
       "unit": "it",
       "unit_divisor": 1000,
       "unit_scale": false
      },
      "application/vnd.jupyter.widget-view+json": {
       "model_id": "",
       "version_major": 2,
       "version_minor": 0
      },
      "text/plain": [
       "Eval batches:   0%|          | 0/196 [00:00<?, ?it/s]"
      ]
     },
     "metadata": {},
     "output_type": "display_data"
    },
    {
     "name": "stdout",
     "output_type": "stream",
     "text": [
      "Epoch 6 - Train Loss: 0.830 - Eval Loss: 2.737 - Eval Accuracy: 0.457 - Time 8.6\n"
     ]
    },
    {
     "data": {
      "application/json": {
       "ascii": false,
       "bar_format": null,
       "colour": null,
       "elapsed": 0.020430326461791992,
       "initial": 0,
       "n": 0,
       "ncols": null,
       "nrows": 29,
       "postfix": null,
       "prefix": "Train batches",
       "rate": null,
       "total": 788,
       "unit": "it",
       "unit_divisor": 1000,
       "unit_scale": false
      },
      "application/vnd.jupyter.widget-view+json": {
       "model_id": "",
       "version_major": 2,
       "version_minor": 0
      },
      "text/plain": [
       "Train batches:   0%|          | 0/788 [00:00<?, ?it/s]"
      ]
     },
     "metadata": {},
     "output_type": "display_data"
    },
    {
     "data": {
      "application/json": {
       "ascii": false,
       "bar_format": null,
       "colour": null,
       "elapsed": 0.020758867263793945,
       "initial": 0,
       "n": 0,
       "ncols": null,
       "nrows": 29,
       "postfix": null,
       "prefix": "Eval batches",
       "rate": null,
       "total": 196,
       "unit": "it",
       "unit_divisor": 1000,
       "unit_scale": false
      },
      "application/vnd.jupyter.widget-view+json": {
       "model_id": "",
       "version_major": 2,
       "version_minor": 0
      },
      "text/plain": [
       "Eval batches:   0%|          | 0/196 [00:00<?, ?it/s]"
      ]
     },
     "metadata": {},
     "output_type": "display_data"
    },
    {
     "name": "stdout",
     "output_type": "stream",
     "text": [
      "Epoch 7 - Train Loss: 0.833 - Eval Loss: 2.764 - Eval Accuracy: 0.395 - Time 8.8\n"
     ]
    },
    {
     "data": {
      "application/json": {
       "ascii": false,
       "bar_format": null,
       "colour": null,
       "elapsed": 0.021126985549926758,
       "initial": 0,
       "n": 0,
       "ncols": null,
       "nrows": 29,
       "postfix": null,
       "prefix": "Train batches",
       "rate": null,
       "total": 788,
       "unit": "it",
       "unit_divisor": 1000,
       "unit_scale": false
      },
      "application/vnd.jupyter.widget-view+json": {
       "model_id": "",
       "version_major": 2,
       "version_minor": 0
      },
      "text/plain": [
       "Train batches:   0%|          | 0/788 [00:00<?, ?it/s]"
      ]
     },
     "metadata": {},
     "output_type": "display_data"
    },
    {
     "data": {
      "application/json": {
       "ascii": false,
       "bar_format": null,
       "colour": null,
       "elapsed": 0.019650936126708984,
       "initial": 0,
       "n": 0,
       "ncols": null,
       "nrows": 29,
       "postfix": null,
       "prefix": "Eval batches",
       "rate": null,
       "total": 196,
       "unit": "it",
       "unit_divisor": 1000,
       "unit_scale": false
      },
      "application/vnd.jupyter.widget-view+json": {
       "model_id": "",
       "version_major": 2,
       "version_minor": 0
      },
      "text/plain": [
       "Eval batches:   0%|          | 0/196 [00:00<?, ?it/s]"
      ]
     },
     "metadata": {},
     "output_type": "display_data"
    },
    {
     "name": "stdout",
     "output_type": "stream",
     "text": [
      "Epoch 8 - Train Loss: 0.840 - Eval Loss: 2.609 - Eval Accuracy: 0.415 - Time 8.6\n"
     ]
    },
    {
     "data": {
      "application/json": {
       "ascii": false,
       "bar_format": null,
       "colour": null,
       "elapsed": 0.02084946632385254,
       "initial": 0,
       "n": 0,
       "ncols": null,
       "nrows": 29,
       "postfix": null,
       "prefix": "Train batches",
       "rate": null,
       "total": 788,
       "unit": "it",
       "unit_divisor": 1000,
       "unit_scale": false
      },
      "application/vnd.jupyter.widget-view+json": {
       "model_id": "",
       "version_major": 2,
       "version_minor": 0
      },
      "text/plain": [
       "Train batches:   0%|          | 0/788 [00:00<?, ?it/s]"
      ]
     },
     "metadata": {},
     "output_type": "display_data"
    },
    {
     "data": {
      "application/json": {
       "ascii": false,
       "bar_format": null,
       "colour": null,
       "elapsed": 0.024405717849731445,
       "initial": 0,
       "n": 0,
       "ncols": null,
       "nrows": 29,
       "postfix": null,
       "prefix": "Eval batches",
       "rate": null,
       "total": 196,
       "unit": "it",
       "unit_divisor": 1000,
       "unit_scale": false
      },
      "application/vnd.jupyter.widget-view+json": {
       "model_id": "",
       "version_major": 2,
       "version_minor": 0
      },
      "text/plain": [
       "Eval batches:   0%|          | 0/196 [00:00<?, ?it/s]"
      ]
     },
     "metadata": {},
     "output_type": "display_data"
    },
    {
     "name": "stdout",
     "output_type": "stream",
     "text": [
      "Epoch 9 - Train Loss: 0.854 - Eval Loss: 2.555 - Eval Accuracy: 0.396 - Time 8.3\n"
     ]
    },
    {
     "data": {
      "application/json": {
       "ascii": false,
       "bar_format": null,
       "colour": null,
       "elapsed": 0.024661779403686523,
       "initial": 0,
       "n": 0,
       "ncols": null,
       "nrows": 29,
       "postfix": null,
       "prefix": "Train batches",
       "rate": null,
       "total": 788,
       "unit": "it",
       "unit_divisor": 1000,
       "unit_scale": false
      },
      "application/vnd.jupyter.widget-view+json": {
       "model_id": "",
       "version_major": 2,
       "version_minor": 0
      },
      "text/plain": [
       "Train batches:   0%|          | 0/788 [00:00<?, ?it/s]"
      ]
     },
     "metadata": {},
     "output_type": "display_data"
    },
    {
     "data": {
      "application/json": {
       "ascii": false,
       "bar_format": null,
       "colour": null,
       "elapsed": 0.023786306381225586,
       "initial": 0,
       "n": 0,
       "ncols": null,
       "nrows": 29,
       "postfix": null,
       "prefix": "Eval batches",
       "rate": null,
       "total": 196,
       "unit": "it",
       "unit_divisor": 1000,
       "unit_scale": false
      },
      "application/vnd.jupyter.widget-view+json": {
       "model_id": "",
       "version_major": 2,
       "version_minor": 0
      },
      "text/plain": [
       "Eval batches:   0%|          | 0/196 [00:00<?, ?it/s]"
      ]
     },
     "metadata": {},
     "output_type": "display_data"
    },
    {
     "name": "stdout",
     "output_type": "stream",
     "text": [
      "Epoch 10 - Train Loss: 0.855 - Eval Loss: 3.057 - Eval Accuracy: 0.314 - Time 8.4\n"
     ]
    },
    {
     "data": {
      "application/json": {
       "ascii": false,
       "bar_format": null,
       "colour": null,
       "elapsed": 0.01992011070251465,
       "initial": 0,
       "n": 0,
       "ncols": null,
       "nrows": 29,
       "postfix": null,
       "prefix": "Train batches",
       "rate": null,
       "total": 788,
       "unit": "it",
       "unit_divisor": 1000,
       "unit_scale": false
      },
      "application/vnd.jupyter.widget-view+json": {
       "model_id": "",
       "version_major": 2,
       "version_minor": 0
      },
      "text/plain": [
       "Train batches:   0%|          | 0/788 [00:00<?, ?it/s]"
      ]
     },
     "metadata": {},
     "output_type": "display_data"
    },
    {
     "data": {
      "application/json": {
       "ascii": false,
       "bar_format": null,
       "colour": null,
       "elapsed": 0.021129846572875977,
       "initial": 0,
       "n": 0,
       "ncols": null,
       "nrows": 29,
       "postfix": null,
       "prefix": "Eval batches",
       "rate": null,
       "total": 196,
       "unit": "it",
       "unit_divisor": 1000,
       "unit_scale": false
      },
      "application/vnd.jupyter.widget-view+json": {
       "model_id": "",
       "version_major": 2,
       "version_minor": 0
      },
      "text/plain": [
       "Eval batches:   0%|          | 0/196 [00:00<?, ?it/s]"
      ]
     },
     "metadata": {},
     "output_type": "display_data"
    },
    {
     "name": "stdout",
     "output_type": "stream",
     "text": [
      "Epoch 11 - Train Loss: 0.867 - Eval Loss: 2.733 - Eval Accuracy: 0.377 - Time 8.6\n"
     ]
    },
    {
     "data": {
      "application/json": {
       "ascii": false,
       "bar_format": null,
       "colour": null,
       "elapsed": 0.023838281631469727,
       "initial": 0,
       "n": 0,
       "ncols": null,
       "nrows": 29,
       "postfix": null,
       "prefix": "Train batches",
       "rate": null,
       "total": 788,
       "unit": "it",
       "unit_divisor": 1000,
       "unit_scale": false
      },
      "application/vnd.jupyter.widget-view+json": {
       "model_id": "",
       "version_major": 2,
       "version_minor": 0
      },
      "text/plain": [
       "Train batches:   0%|          | 0/788 [00:00<?, ?it/s]"
      ]
     },
     "metadata": {},
     "output_type": "display_data"
    },
    {
     "data": {
      "application/json": {
       "ascii": false,
       "bar_format": null,
       "colour": null,
       "elapsed": 0.015666961669921875,
       "initial": 0,
       "n": 0,
       "ncols": null,
       "nrows": 29,
       "postfix": null,
       "prefix": "Eval batches",
       "rate": null,
       "total": 196,
       "unit": "it",
       "unit_divisor": 1000,
       "unit_scale": false
      },
      "application/vnd.jupyter.widget-view+json": {
       "model_id": "",
       "version_major": 2,
       "version_minor": 0
      },
      "text/plain": [
       "Eval batches:   0%|          | 0/196 [00:00<?, ?it/s]"
      ]
     },
     "metadata": {},
     "output_type": "display_data"
    },
    {
     "name": "stdout",
     "output_type": "stream",
     "text": [
      "Epoch 12 - Train Loss: 0.854 - Eval Loss: 2.624 - Eval Accuracy: 0.412 - Time 8.6\n"
     ]
    },
    {
     "data": {
      "application/json": {
       "ascii": false,
       "bar_format": null,
       "colour": null,
       "elapsed": 0.02917766571044922,
       "initial": 0,
       "n": 0,
       "ncols": null,
       "nrows": 29,
       "postfix": null,
       "prefix": "Train batches",
       "rate": null,
       "total": 788,
       "unit": "it",
       "unit_divisor": 1000,
       "unit_scale": false
      },
      "application/vnd.jupyter.widget-view+json": {
       "model_id": "",
       "version_major": 2,
       "version_minor": 0
      },
      "text/plain": [
       "Train batches:   0%|          | 0/788 [00:00<?, ?it/s]"
      ]
     },
     "metadata": {},
     "output_type": "display_data"
    },
    {
     "data": {
      "application/json": {
       "ascii": false,
       "bar_format": null,
       "colour": null,
       "elapsed": 0.021291494369506836,
       "initial": 0,
       "n": 0,
       "ncols": null,
       "nrows": 29,
       "postfix": null,
       "prefix": "Eval batches",
       "rate": null,
       "total": 196,
       "unit": "it",
       "unit_divisor": 1000,
       "unit_scale": false
      },
      "application/vnd.jupyter.widget-view+json": {
       "model_id": "",
       "version_major": 2,
       "version_minor": 0
      },
      "text/plain": [
       "Eval batches:   0%|          | 0/196 [00:00<?, ?it/s]"
      ]
     },
     "metadata": {},
     "output_type": "display_data"
    },
    {
     "name": "stdout",
     "output_type": "stream",
     "text": [
      "Epoch 13 - Train Loss: 0.854 - Eval Loss: 2.569 - Eval Accuracy: 0.424 - Time 8.4\n"
     ]
    },
    {
     "data": {
      "application/json": {
       "ascii": false,
       "bar_format": null,
       "colour": null,
       "elapsed": 0.02392578125,
       "initial": 0,
       "n": 0,
       "ncols": null,
       "nrows": 29,
       "postfix": null,
       "prefix": "Train batches",
       "rate": null,
       "total": 788,
       "unit": "it",
       "unit_divisor": 1000,
       "unit_scale": false
      },
      "application/vnd.jupyter.widget-view+json": {
       "model_id": "",
       "version_major": 2,
       "version_minor": 0
      },
      "text/plain": [
       "Train batches:   0%|          | 0/788 [00:00<?, ?it/s]"
      ]
     },
     "metadata": {},
     "output_type": "display_data"
    },
    {
     "data": {
      "application/json": {
       "ascii": false,
       "bar_format": null,
       "colour": null,
       "elapsed": 0.019866466522216797,
       "initial": 0,
       "n": 0,
       "ncols": null,
       "nrows": 29,
       "postfix": null,
       "prefix": "Eval batches",
       "rate": null,
       "total": 196,
       "unit": "it",
       "unit_divisor": 1000,
       "unit_scale": false
      },
      "application/vnd.jupyter.widget-view+json": {
       "model_id": "",
       "version_major": 2,
       "version_minor": 0
      },
      "text/plain": [
       "Eval batches:   0%|          | 0/196 [00:00<?, ?it/s]"
      ]
     },
     "metadata": {},
     "output_type": "display_data"
    },
    {
     "name": "stdout",
     "output_type": "stream",
     "text": [
      "Epoch 14 - Train Loss: 0.871 - Eval Loss: 3.097 - Eval Accuracy: 0.365 - Time 8.3\n"
     ]
    },
    {
     "data": {
      "application/json": {
       "ascii": false,
       "bar_format": null,
       "colour": null,
       "elapsed": 0.02599167823791504,
       "initial": 0,
       "n": 0,
       "ncols": null,
       "nrows": 29,
       "postfix": null,
       "prefix": "Train batches",
       "rate": null,
       "total": 788,
       "unit": "it",
       "unit_divisor": 1000,
       "unit_scale": false
      },
      "application/vnd.jupyter.widget-view+json": {
       "model_id": "",
       "version_major": 2,
       "version_minor": 0
      },
      "text/plain": [
       "Train batches:   0%|          | 0/788 [00:00<?, ?it/s]"
      ]
     },
     "metadata": {},
     "output_type": "display_data"
    },
    {
     "data": {
      "application/json": {
       "ascii": false,
       "bar_format": null,
       "colour": null,
       "elapsed": 0.02391839027404785,
       "initial": 0,
       "n": 0,
       "ncols": null,
       "nrows": 29,
       "postfix": null,
       "prefix": "Eval batches",
       "rate": null,
       "total": 196,
       "unit": "it",
       "unit_divisor": 1000,
       "unit_scale": false
      },
      "application/vnd.jupyter.widget-view+json": {
       "model_id": "",
       "version_major": 2,
       "version_minor": 0
      },
      "text/plain": [
       "Eval batches:   0%|          | 0/196 [00:00<?, ?it/s]"
      ]
     },
     "metadata": {},
     "output_type": "display_data"
    },
    {
     "name": "stdout",
     "output_type": "stream",
     "text": [
      "Epoch 15 - Train Loss: 0.871 - Eval Loss: 2.510 - Eval Accuracy: 0.375 - Time 8.4\n"
     ]
    }
   ],
   "source": [
    "class MultilayerRNN(torch.nn.Module):\n",
    "    def __init__(self,\n",
    "                 vocab_size: int,\n",
    "                 n_layers: int=1,\n",
    "                 n_hidden: int=3):\n",
    "        super(MultilayerRNN, self).__init__()\n",
    "        self.vocab_size = vocab_size\n",
    "        self.n_layers = n_layers\n",
    "        self.n_hidden = n_hidden\n",
    "        \n",
    "        # Layers\n",
    "        self.input_layer = torch.nn.Embedding(self.vocab_size,\n",
    "                                              self.n_hidden)\n",
    "        self.rnn = torch.nn.RNN(self.n_hidden,\n",
    "                                self.n_hidden,\n",
    "                                self.n_layers,\n",
    "                                batch_first=True)\n",
    "        self.output_layer = torch.nn.Linear(self.n_hidden,\n",
    "                                            self.vocab_size)\n",
    "        \n",
    "        # To initialize the hidden state\n",
    "        self.first_pass = True\n",
    "        \n",
    "        \n",
    "    def forward(self, X, y):\n",
    "        assert X.ndim == 2, \"X must be a 2D tensor of shape (batch_size, seq_length).\"\n",
    "        if y is not None:\n",
    "            assert all(xdim==ydim for xdim, ydim in zip(X.shape, y.shape)), \"X and y shapes must match.\"\n",
    "        \n",
    "        batch_size = X.shape[0]\n",
    "        if self.first_pass:\n",
    "            self.hidden_state = torch.zeros(self.n_layers, \n",
    "                                            batch_size,\n",
    "                                            self.n_hidden)\n",
    "        # Forward through the network\n",
    "        res, hidden_state = self.rnn(self.input_layer(X), self.hidden_state)\n",
    "        self.hidden_state = hidden_state.detach()\n",
    "        last_hidden_state = self.output_layer(res)\n",
    "        model_output = {\"last_hidden_state\": last_hidden_state}\n",
    "\n",
    "        # Calculate the loss\n",
    "        if y is not None:\n",
    "            # Reshape last hidden states and targets to flatten the sequences\n",
    "            # (batch_size, seq_length, vocab_size) -> (batch_size * seq_length, vocab_size)\n",
    "            # (batch_size, seq_length) -> (batch_size * seq_length)\n",
    "            loss = torch.nn.functional.cross_entropy(last_hidden_state.view(-1, self.vocab_size),\n",
    "                                                     y.view(-1,))\n",
    "            model_output.update({\"loss\": loss})\n",
    "\n",
    "        return model_output\n",
    "\n",
    "\n",
    "    def reset(self):\n",
    "        self.hidden_state.zero_()\n",
    "            \n",
    "            \n",
    "# Train the model\n",
    "torch.manual_seed(123)\n",
    "model = MultilayerRNN(vocab_size,\n",
    "                      n_layers=2,\n",
    "                      n_hidden=64)\n",
    "\n",
    "train_state_network(model,\n",
    "                    train_loader,\n",
    "                    val_loader,\n",
    "                    n_epochs=15,\n",
    "                    learning_rate=3e-3)"
   ]
  },
  {
   "cell_type": "code",
   "execution_count": null,
   "id": "a7650c23-03f5-40ba-9a41-23cc6caa528e",
   "metadata": {},
   "outputs": [],
   "source": []
  }
 ],
 "metadata": {
  "kernelspec": {
   "display_name": "Python 3 (ipykernel)",
   "language": "python",
   "name": "python3"
  },
  "language_info": {
   "codemirror_mode": {
    "name": "ipython",
    "version": 3
   },
   "file_extension": ".py",
   "mimetype": "text/x-python",
   "name": "python",
   "nbconvert_exporter": "python",
   "pygments_lexer": "ipython3",
   "version": "3.9.12"
  }
 },
 "nbformat": 4,
 "nbformat_minor": 5
}
